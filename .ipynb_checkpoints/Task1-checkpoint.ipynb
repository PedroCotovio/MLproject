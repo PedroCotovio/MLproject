{
 "cells": [
  {
   "cell_type": "markdown",
   "metadata": {},
   "source": [
    "# Task 1 (Supervised Learning) - Predicting Adoption and Adoption Speed\n",
    "\n",
    "In this task you should target 3 classification tasks:\n",
    "1. **Predicting  Adoption (binary classification task)**: create a new target from AdoptionSpeed that is 1 if AdoptionSpeed <> 4 and 0 otherwise.\n",
    "2. **Predicting AdoptionSpeed (multiclass classification)**: in this task you should you the original target AdoptionSpeed, whose values are in the set {0, 1, 2, 3 , 4} (5 classes). This is a very difficult problem. You might also want to consider 3 classes (for instance {0-1, 2-3, 4}, or other sets that make sense). \n",
    "3. **Train specialized models for cats and dogs**: train with cat/dog instances and check whether the classification performance changes when Predicting Adoption and Predicting AdoptionSpeed."
   ]
  },
  {
   "cell_type": "markdown",
   "metadata": {
    "heading_collapsed": true
   },
   "source": [
    "## Intro"
   ]
  },
  {
   "cell_type": "markdown",
   "metadata": {
    "hidden": true
   },
   "source": [
    "**You should:**\n",
    "\n",
    "* Choose **one classifier in each category**: Tree models, Rule models, Linear models, Distance-based models, and Probabilistic models.\n",
    "* Use cross-validation to evaluate the results. \n",
    "* Present and discuss the results for different evaluation measures, present confusion matrices. Remember that not only overall results are important. Check what happens when learning to predict each class.\n",
    "* Describe the parameters used for each classifier and how their choice impacted or not the results.\n",
    "* Choose the best classifier and fundament you choice.\n",
    "* **Discuss critically your choices and the results!**"
   ]
  },
  {
   "cell_type": "markdown",
   "metadata": {
    "hidden": true
   },
   "source": [
    "We have only categorical data, but most of it is binary so we need to find the best models, classifing this type of data. Although it's clear that since we transformed our data in mostly binary features, we will have a much better performance with the binary target, then with the multiclass classification problem.\n",
    "\n",
    "Models to try:\n",
    "\n",
    "* LogitRegression (Can be used in multiclass classification, combining multiple regression functions.)\n",
    "  > Coeficient selection `l1-penalized`, solver `SAGA`\n",
    "* SVM with Kernel\n",
    "  > HyperParameter Selection - randomized search\n",
    "* Random Forests\n",
    "  > HyperParameter Selection - randomized search\n",
    "* KNeighbors\n",
    "* Categorical Naive Bayes\n",
    "\n",
    "Feature Selection:\n",
    "\n",
    "* RFE with with CV / metric - accuracy\n",
    "* LassoCV with CV / metric - AIC & BIC\n",
    "\n",
    "For feature selection we ended up deciding on using only `RFE`, since it is a more common aproach, and we have finite computational power. Combining feature and hyper parameter selection is a very expensive computacional task.\n",
    "\n",
    "The Lasso method, would explore interesting metrics like the AIC and BIC metrics for measuring the information in a model.\n",
    "\n",
    "Performance Analysis :\n",
    "\n",
    "* Precision & Recall\n",
    "* Confusion Matrix\n",
    "\n",
    "This methods were only explored in the binary classification problem.\n",
    "\n",
    "* Test Error vs Train Error\n",
    "* ROC for every fold in CV\n",
    "* Learning Curves"
   ]
  },
  {
   "cell_type": "markdown",
   "metadata": {
    "heading_collapsed": true
   },
   "source": [
    "## Loading Datasets"
   ]
  },
  {
   "cell_type": "code",
   "execution_count": 1,
   "metadata": {
    "hidden": true
   },
   "outputs": [],
   "source": [
    "# Load data\n",
    "import pandas as pd\n",
    "\n",
    "Bl = pd.read_csv(\"Balanced_Dataset.csv\", index_col=0)\n",
    "Bn = pd.read_csv('Binary_Dataset.csv', index_col=0)\n",
    "Bin = pd.read_csv('Binary_Imbalanced_Dataset.csv', index_col=0)"
   ]
  },
  {
   "cell_type": "code",
   "execution_count": 2,
   "metadata": {
    "hidden": true
   },
   "outputs": [
    {
     "data": {
      "text/html": [
       "<div>\n",
       "<style scoped>\n",
       "    .dataframe tbody tr th:only-of-type {\n",
       "        vertical-align: middle;\n",
       "    }\n",
       "\n",
       "    .dataframe tbody tr th {\n",
       "        vertical-align: top;\n",
       "    }\n",
       "\n",
       "    .dataframe thead th {\n",
       "        text-align: right;\n",
       "    }\n",
       "</style>\n",
       "<table border=\"1\" class=\"dataframe\">\n",
       "  <thead>\n",
       "    <tr style=\"text-align: right;\">\n",
       "      <th></th>\n",
       "      <th>Type</th>\n",
       "      <th>Gender</th>\n",
       "      <th>FurLength</th>\n",
       "      <th>agecat</th>\n",
       "      <th>breedcat</th>\n",
       "      <th>namecat</th>\n",
       "      <th>descriptcat</th>\n",
       "      <th>colorcat</th>\n",
       "      <th>colorcat2</th>\n",
       "      <th>healthcat</th>\n",
       "      <th>statecat</th>\n",
       "      <th>MaturitySizecat</th>\n",
       "      <th>Photocat</th>\n",
       "      <th>quantitycat</th>\n",
       "      <th>paidcat</th>\n",
       "      <th>Target</th>\n",
       "    </tr>\n",
       "  </thead>\n",
       "  <tbody>\n",
       "    <tr>\n",
       "      <th>0</th>\n",
       "      <td>2</td>\n",
       "      <td>1</td>\n",
       "      <td>1</td>\n",
       "      <td>2</td>\n",
       "      <td>0</td>\n",
       "      <td>0</td>\n",
       "      <td>0</td>\n",
       "      <td>1</td>\n",
       "      <td>1</td>\n",
       "      <td>0</td>\n",
       "      <td>1</td>\n",
       "      <td>0</td>\n",
       "      <td>1</td>\n",
       "      <td>0</td>\n",
       "      <td>1</td>\n",
       "      <td>2</td>\n",
       "    </tr>\n",
       "    <tr>\n",
       "      <th>1</th>\n",
       "      <td>2</td>\n",
       "      <td>1</td>\n",
       "      <td>2</td>\n",
       "      <td>0</td>\n",
       "      <td>0</td>\n",
       "      <td>0</td>\n",
       "      <td>0</td>\n",
       "      <td>1</td>\n",
       "      <td>1</td>\n",
       "      <td>0</td>\n",
       "      <td>0</td>\n",
       "      <td>1</td>\n",
       "      <td>2</td>\n",
       "      <td>0</td>\n",
       "      <td>0</td>\n",
       "      <td>0</td>\n",
       "    </tr>\n",
       "    <tr>\n",
       "      <th>2</th>\n",
       "      <td>1</td>\n",
       "      <td>1</td>\n",
       "      <td>2</td>\n",
       "      <td>0</td>\n",
       "      <td>0</td>\n",
       "      <td>0</td>\n",
       "      <td>0</td>\n",
       "      <td>1</td>\n",
       "      <td>1</td>\n",
       "      <td>1</td>\n",
       "      <td>1</td>\n",
       "      <td>1</td>\n",
       "      <td>5</td>\n",
       "      <td>0</td>\n",
       "      <td>0</td>\n",
       "      <td>3</td>\n",
       "    </tr>\n",
       "    <tr>\n",
       "      <th>3</th>\n",
       "      <td>1</td>\n",
       "      <td>2</td>\n",
       "      <td>1</td>\n",
       "      <td>2</td>\n",
       "      <td>0</td>\n",
       "      <td>1</td>\n",
       "      <td>0</td>\n",
       "      <td>1</td>\n",
       "      <td>1</td>\n",
       "      <td>1</td>\n",
       "      <td>0</td>\n",
       "      <td>1</td>\n",
       "      <td>5</td>\n",
       "      <td>0</td>\n",
       "      <td>1</td>\n",
       "      <td>2</td>\n",
       "    </tr>\n",
       "    <tr>\n",
       "      <th>4</th>\n",
       "      <td>1</td>\n",
       "      <td>1</td>\n",
       "      <td>1</td>\n",
       "      <td>0</td>\n",
       "      <td>0</td>\n",
       "      <td>1</td>\n",
       "      <td>0</td>\n",
       "      <td>0</td>\n",
       "      <td>1</td>\n",
       "      <td>0</td>\n",
       "      <td>1</td>\n",
       "      <td>1</td>\n",
       "      <td>3</td>\n",
       "      <td>0</td>\n",
       "      <td>0</td>\n",
       "      <td>2</td>\n",
       "    </tr>\n",
       "  </tbody>\n",
       "</table>\n",
       "</div>"
      ],
      "text/plain": [
       "   Type  Gender  FurLength  agecat  breedcat  namecat  descriptcat  colorcat  \\\n",
       "0     2       1          1       2         0        0            0         1   \n",
       "1     2       1          2       0         0        0            0         1   \n",
       "2     1       1          2       0         0        0            0         1   \n",
       "3     1       2          1       2         0        1            0         1   \n",
       "4     1       1          1       0         0        1            0         0   \n",
       "\n",
       "   colorcat2  healthcat  statecat  MaturitySizecat  Photocat  quantitycat  \\\n",
       "0          1          0         1                0         1            0   \n",
       "1          1          0         0                1         2            0   \n",
       "2          1          1         1                1         5            0   \n",
       "3          1          1         0                1         5            0   \n",
       "4          1          0         1                1         3            0   \n",
       "\n",
       "   paidcat  Target  \n",
       "0        1       2  \n",
       "1        0       0  \n",
       "2        0       3  \n",
       "3        1       2  \n",
       "4        0       2  "
      ]
     },
     "execution_count": 2,
     "metadata": {},
     "output_type": "execute_result"
    }
   ],
   "source": [
    "Bl.head()"
   ]
  },
  {
   "cell_type": "code",
   "execution_count": 3,
   "metadata": {
    "hidden": true
   },
   "outputs": [
    {
     "data": {
      "text/html": [
       "<div>\n",
       "<style scoped>\n",
       "    .dataframe tbody tr th:only-of-type {\n",
       "        vertical-align: middle;\n",
       "    }\n",
       "\n",
       "    .dataframe tbody tr th {\n",
       "        vertical-align: top;\n",
       "    }\n",
       "\n",
       "    .dataframe thead th {\n",
       "        text-align: right;\n",
       "    }\n",
       "</style>\n",
       "<table border=\"1\" class=\"dataframe\">\n",
       "  <thead>\n",
       "    <tr style=\"text-align: right;\">\n",
       "      <th></th>\n",
       "      <th>Type</th>\n",
       "      <th>Gender</th>\n",
       "      <th>FurLength</th>\n",
       "      <th>agecat</th>\n",
       "      <th>breedcat</th>\n",
       "      <th>namecat</th>\n",
       "      <th>descriptcat</th>\n",
       "      <th>colorcat</th>\n",
       "      <th>colorcat2</th>\n",
       "      <th>healthcat</th>\n",
       "      <th>statecat</th>\n",
       "      <th>MaturitySizecat</th>\n",
       "      <th>Photocat</th>\n",
       "      <th>quantitycat</th>\n",
       "      <th>paidcat</th>\n",
       "      <th>Target</th>\n",
       "    </tr>\n",
       "  </thead>\n",
       "  <tbody>\n",
       "    <tr>\n",
       "      <th>0</th>\n",
       "      <td>2</td>\n",
       "      <td>1</td>\n",
       "      <td>1</td>\n",
       "      <td>2</td>\n",
       "      <td>0</td>\n",
       "      <td>0</td>\n",
       "      <td>0</td>\n",
       "      <td>1</td>\n",
       "      <td>1</td>\n",
       "      <td>0</td>\n",
       "      <td>1</td>\n",
       "      <td>0</td>\n",
       "      <td>1</td>\n",
       "      <td>0</td>\n",
       "      <td>1</td>\n",
       "      <td>1</td>\n",
       "    </tr>\n",
       "    <tr>\n",
       "      <th>1</th>\n",
       "      <td>2</td>\n",
       "      <td>1</td>\n",
       "      <td>2</td>\n",
       "      <td>0</td>\n",
       "      <td>0</td>\n",
       "      <td>0</td>\n",
       "      <td>0</td>\n",
       "      <td>1</td>\n",
       "      <td>1</td>\n",
       "      <td>0</td>\n",
       "      <td>0</td>\n",
       "      <td>1</td>\n",
       "      <td>2</td>\n",
       "      <td>0</td>\n",
       "      <td>0</td>\n",
       "      <td>1</td>\n",
       "    </tr>\n",
       "    <tr>\n",
       "      <th>2</th>\n",
       "      <td>1</td>\n",
       "      <td>1</td>\n",
       "      <td>2</td>\n",
       "      <td>0</td>\n",
       "      <td>0</td>\n",
       "      <td>0</td>\n",
       "      <td>0</td>\n",
       "      <td>1</td>\n",
       "      <td>1</td>\n",
       "      <td>1</td>\n",
       "      <td>1</td>\n",
       "      <td>1</td>\n",
       "      <td>5</td>\n",
       "      <td>0</td>\n",
       "      <td>0</td>\n",
       "      <td>1</td>\n",
       "    </tr>\n",
       "    <tr>\n",
       "      <th>3</th>\n",
       "      <td>1</td>\n",
       "      <td>2</td>\n",
       "      <td>1</td>\n",
       "      <td>2</td>\n",
       "      <td>0</td>\n",
       "      <td>1</td>\n",
       "      <td>0</td>\n",
       "      <td>1</td>\n",
       "      <td>1</td>\n",
       "      <td>1</td>\n",
       "      <td>0</td>\n",
       "      <td>1</td>\n",
       "      <td>5</td>\n",
       "      <td>0</td>\n",
       "      <td>1</td>\n",
       "      <td>1</td>\n",
       "    </tr>\n",
       "    <tr>\n",
       "      <th>4</th>\n",
       "      <td>1</td>\n",
       "      <td>1</td>\n",
       "      <td>1</td>\n",
       "      <td>0</td>\n",
       "      <td>0</td>\n",
       "      <td>1</td>\n",
       "      <td>0</td>\n",
       "      <td>0</td>\n",
       "      <td>1</td>\n",
       "      <td>0</td>\n",
       "      <td>1</td>\n",
       "      <td>1</td>\n",
       "      <td>3</td>\n",
       "      <td>0</td>\n",
       "      <td>0</td>\n",
       "      <td>1</td>\n",
       "    </tr>\n",
       "  </tbody>\n",
       "</table>\n",
       "</div>"
      ],
      "text/plain": [
       "   Type  Gender  FurLength  agecat  breedcat  namecat  descriptcat  colorcat  \\\n",
       "0     2       1          1       2         0        0            0         1   \n",
       "1     2       1          2       0         0        0            0         1   \n",
       "2     1       1          2       0         0        0            0         1   \n",
       "3     1       2          1       2         0        1            0         1   \n",
       "4     1       1          1       0         0        1            0         0   \n",
       "\n",
       "   colorcat2  healthcat  statecat  MaturitySizecat  Photocat  quantitycat  \\\n",
       "0          1          0         1                0         1            0   \n",
       "1          1          0         0                1         2            0   \n",
       "2          1          1         1                1         5            0   \n",
       "3          1          1         0                1         5            0   \n",
       "4          1          0         1                1         3            0   \n",
       "\n",
       "   paidcat  Target  \n",
       "0        1       1  \n",
       "1        0       1  \n",
       "2        0       1  \n",
       "3        1       1  \n",
       "4        0       1  "
      ]
     },
     "execution_count": 3,
     "metadata": {},
     "output_type": "execute_result"
    }
   ],
   "source": [
    "Bn.head()"
   ]
  },
  {
   "cell_type": "code",
   "execution_count": 5,
   "metadata": {
    "hidden": true
   },
   "outputs": [
    {
     "data": {
      "text/html": [
       "<div>\n",
       "<style scoped>\n",
       "    .dataframe tbody tr th:only-of-type {\n",
       "        vertical-align: middle;\n",
       "    }\n",
       "\n",
       "    .dataframe tbody tr th {\n",
       "        vertical-align: top;\n",
       "    }\n",
       "\n",
       "    .dataframe thead th {\n",
       "        text-align: right;\n",
       "    }\n",
       "</style>\n",
       "<table border=\"1\" class=\"dataframe\">\n",
       "  <thead>\n",
       "    <tr style=\"text-align: right;\">\n",
       "      <th></th>\n",
       "      <th>Type</th>\n",
       "      <th>Gender</th>\n",
       "      <th>FurLength</th>\n",
       "      <th>agecat</th>\n",
       "      <th>breedcat</th>\n",
       "      <th>namecat</th>\n",
       "      <th>descriptcat</th>\n",
       "      <th>colorcat</th>\n",
       "      <th>colorcat2</th>\n",
       "      <th>healthcat</th>\n",
       "      <th>statecat</th>\n",
       "      <th>MaturitySizecat</th>\n",
       "      <th>Photocat</th>\n",
       "      <th>quantitycat</th>\n",
       "      <th>paidcat</th>\n",
       "    </tr>\n",
       "  </thead>\n",
       "  <tbody>\n",
       "    <tr>\n",
       "      <th>0</th>\n",
       "      <td>2</td>\n",
       "      <td>1</td>\n",
       "      <td>1</td>\n",
       "      <td>2</td>\n",
       "      <td>0</td>\n",
       "      <td>0</td>\n",
       "      <td>0</td>\n",
       "      <td>1</td>\n",
       "      <td>1</td>\n",
       "      <td>0</td>\n",
       "      <td>1</td>\n",
       "      <td>0</td>\n",
       "      <td>1</td>\n",
       "      <td>0</td>\n",
       "      <td>1</td>\n",
       "    </tr>\n",
       "    <tr>\n",
       "      <th>1</th>\n",
       "      <td>2</td>\n",
       "      <td>1</td>\n",
       "      <td>2</td>\n",
       "      <td>0</td>\n",
       "      <td>0</td>\n",
       "      <td>0</td>\n",
       "      <td>0</td>\n",
       "      <td>1</td>\n",
       "      <td>1</td>\n",
       "      <td>0</td>\n",
       "      <td>0</td>\n",
       "      <td>1</td>\n",
       "      <td>2</td>\n",
       "      <td>0</td>\n",
       "      <td>0</td>\n",
       "    </tr>\n",
       "    <tr>\n",
       "      <th>2</th>\n",
       "      <td>1</td>\n",
       "      <td>1</td>\n",
       "      <td>2</td>\n",
       "      <td>0</td>\n",
       "      <td>0</td>\n",
       "      <td>0</td>\n",
       "      <td>0</td>\n",
       "      <td>1</td>\n",
       "      <td>1</td>\n",
       "      <td>1</td>\n",
       "      <td>1</td>\n",
       "      <td>1</td>\n",
       "      <td>5</td>\n",
       "      <td>0</td>\n",
       "      <td>0</td>\n",
       "    </tr>\n",
       "    <tr>\n",
       "      <th>3</th>\n",
       "      <td>1</td>\n",
       "      <td>2</td>\n",
       "      <td>1</td>\n",
       "      <td>2</td>\n",
       "      <td>0</td>\n",
       "      <td>1</td>\n",
       "      <td>0</td>\n",
       "      <td>1</td>\n",
       "      <td>1</td>\n",
       "      <td>1</td>\n",
       "      <td>0</td>\n",
       "      <td>1</td>\n",
       "      <td>5</td>\n",
       "      <td>0</td>\n",
       "      <td>1</td>\n",
       "    </tr>\n",
       "    <tr>\n",
       "      <th>4</th>\n",
       "      <td>1</td>\n",
       "      <td>1</td>\n",
       "      <td>1</td>\n",
       "      <td>0</td>\n",
       "      <td>0</td>\n",
       "      <td>1</td>\n",
       "      <td>0</td>\n",
       "      <td>0</td>\n",
       "      <td>1</td>\n",
       "      <td>0</td>\n",
       "      <td>1</td>\n",
       "      <td>1</td>\n",
       "      <td>3</td>\n",
       "      <td>0</td>\n",
       "      <td>0</td>\n",
       "    </tr>\n",
       "  </tbody>\n",
       "</table>\n",
       "</div>"
      ],
      "text/plain": [
       "   Type  Gender  FurLength  agecat  breedcat  namecat  descriptcat  colorcat  \\\n",
       "0     2       1          1       2         0        0            0         1   \n",
       "1     2       1          2       0         0        0            0         1   \n",
       "2     1       1          2       0         0        0            0         1   \n",
       "3     1       2          1       2         0        1            0         1   \n",
       "4     1       1          1       0         0        1            0         0   \n",
       "\n",
       "   colorcat2  healthcat  statecat  MaturitySizecat  Photocat  quantitycat  \\\n",
       "0          1          0         1                0         1            0   \n",
       "1          1          0         0                1         2            0   \n",
       "2          1          1         1                1         5            0   \n",
       "3          1          1         0                1         5            0   \n",
       "4          1          0         1                1         3            0   \n",
       "\n",
       "   paidcat  \n",
       "0        1  \n",
       "1        0  \n",
       "2        0  \n",
       "3        1  \n",
       "4        0  "
      ]
     },
     "execution_count": 5,
     "metadata": {},
     "output_type": "execute_result"
    }
   ],
   "source": [
    "Bin.head()"
   ]
  },
  {
   "cell_type": "code",
   "execution_count": 4,
   "metadata": {
    "hidden": true
   },
   "outputs": [],
   "source": [
    "#Create Multy class target\n",
    "my = Bl['Target'].values\n",
    "Bl = Bl.drop(['Target'], axis=1)\n",
    "#Create Binary Target\n",
    "by = Bn['Target'].values\n",
    "Bn = Bn.drop(['Target'], axis=1)\n",
    "#Create Binary Imbalanced Target\n",
    "iby = Bin['Target'].values\n",
    "Bin = Bin.drop(['Target'], axis=1)"
   ]
  },
  {
   "cell_type": "markdown",
   "metadata": {
    "heading_collapsed": true
   },
   "source": [
    "## Importing Modules and Functions"
   ]
  },
  {
   "cell_type": "code",
   "execution_count": 6,
   "metadata": {
    "hidden": true
   },
   "outputs": [
    {
     "name": "stderr",
     "output_type": "stream",
     "text": [
      "C:\\Users\\peped\\Miniconda3\\envs\\AA\\lib\\site-packages\\sklearn\\utils\\deprecation.py:144: FutureWarning: The sklearn.ensemble.forest module is  deprecated in version 0.22 and will be removed in version 0.24. The corresponding classes / functions should instead be imported from sklearn.ensemble. Anything that cannot be imported from sklearn.ensemble is now part of the private API.\n",
      "  warnings.warn(message, FutureWarning)\n"
     ]
    }
   ],
   "source": [
    "##Import all Modules\n",
    "import sys\n",
    "import numpy as np\n",
    "import math\n",
    "import seaborn as sns\n",
    "import matplotlib.pyplot as plt\n",
    "from sklearn.ensemble.forest import RandomForestClassifier\n",
    "from sklearn.feature_selection import SelectFromModel\n",
    "from sklearn.model_selection import train_test_split\n",
    "from mlxtend.preprocessing import TransactionEncoder\n",
    "from sklearn.svm import l1_min_c\n",
    "from sklearn.model_selection import StratifiedKFold\n",
    "from sklearn.feature_selection import RFECV\n",
    "from sklearn import linear_model\n",
    "from sklearn.svm import SVC\n",
    "from sklearn.multiclass import OneVsRestClassifier\n",
    "## Import Functions\n",
    "from Task1_functions import *"
   ]
  },
  {
   "cell_type": "markdown",
   "metadata": {},
   "source": [
    "## 1.1. MultiClass Classification"
   ]
  },
  {
   "cell_type": "markdown",
   "metadata": {
    "heading_collapsed": true
   },
   "source": [
    "### 1.1.1 LogitRegression"
   ]
  },
  {
   "cell_type": "markdown",
   "metadata": {
    "heading_collapsed": true,
    "hidden": true
   },
   "source": [
    "#### 1.1.1.1 Model training"
   ]
  },
  {
   "cell_type": "code",
   "execution_count": 43,
   "metadata": {
    "hidden": true
   },
   "outputs": [
    {
     "name": "stdout",
     "output_type": "stream",
     "text": [
      "0  of  16\n",
      "1  of  16\n",
      "2  of  16\n",
      "3  of  16\n",
      "4  of  16\n",
      "5  of  16\n",
      "6  of  16\n",
      "7  of  16\n",
      "8  of  16\n",
      "9  of  16\n",
      "10  of  16\n",
      "11  of  16\n",
      "12  of  16\n",
      "13  of  16\n",
      "14  of  16\n",
      "15  of  16\n",
      "16  of  16  : Finished\n"
     ]
    }
   ],
   "source": [
    "#Create Classifier with l1_min penality\n",
    "\n",
    "cs = l1_min_c(Bl, my, loss='log') * np.logspace(0, 7, 16)\n",
    "\n",
    "logit = linear_model.LogisticRegression(penalty='l1', solver='saga',\n",
    "                                      tol=1e-6, max_iter=int(1e6),\n",
    "                                      warm_start=True, multi_class= 'multinomial')\n",
    "# warm_start allows the model the use already computed coeficcients \n",
    "# Create the RFE object and compute a cross-validated score.\n",
    "k_folds = 10\n",
    "best = 0\n",
    "cv=StratifiedKFold(k_folds)\n",
    "for i, c in enumerate(cs):\n",
    "    print (i, ' of ', len(cs))\n",
    "    logit.set_params(C=c)\n",
    "    rfecv_logit = RFECV(estimator=logit, step=1, cv=cv,\n",
    "            scoring='accuracy', n_jobs = k_folds)\n",
    "    rfecv_logit.fit(Bl, my)\n",
    "    if max(rfecv_logit.grid_scores_) > best:\n",
    "        Brfecv_logit = rfecv_logit\n",
    "print(len(cs),' of ', len(cs),' : Finished')"
   ]
  },
  {
   "cell_type": "code",
   "execution_count": 77,
   "metadata": {
    "hidden": true
   },
   "outputs": [],
   "source": [
    "#Recreate model\n",
    "logit = linear_model.LogisticRegression(C=548.5764441274891, class_weight=None, dual=False,\n",
    "                   fit_intercept=True, intercept_scaling=1, l1_ratio=None,\n",
    "                   max_iter=1000000, multi_class='multinomial', n_jobs=None,\n",
    "                   penalty='l1', random_state=None, solver='saga', tol=1e-06,\n",
    "                   verbose=0, warm_start=True)\n"
   ]
  },
  {
   "cell_type": "markdown",
   "metadata": {
    "heading_collapsed": true,
    "hidden": true
   },
   "source": [
    "#### 1.1.1.2 Model Parameters"
   ]
  },
  {
   "cell_type": "code",
   "execution_count": 44,
   "metadata": {
    "hidden": true
   },
   "outputs": [
    {
     "name": "stdout",
     "output_type": "stream",
     "text": [
      "Feature's Ranking \n",
      "\n",
      "Type :  1\n",
      "Gender :  1\n",
      "FurLength :  1\n",
      "agecat :  1\n",
      "breedcat :  1\n",
      "namecat :  1\n",
      "descriptcat :  1\n",
      "colorcat :  1\n",
      "colorcat2 :  1\n",
      "healthcat :  1\n",
      "statecat :  1\n",
      "MaturitySizecat :  1\n",
      "Photocat :  1\n",
      "quantitycat :  1\n",
      "paidcat :  1\n"
     ]
    }
   ],
   "source": [
    "print(\"Feature's Ranking \\n\")\n",
    "for ix, cols in enumerate(Bl.columns):\n",
    "    print(cols, ': ', Brfecv_logit.ranking_[ix])"
   ]
  },
  {
   "cell_type": "code",
   "execution_count": 45,
   "metadata": {
    "hidden": true
   },
   "outputs": [
    {
     "name": "stdout",
     "output_type": "stream",
     "text": [
      "Optimal number of features : 15\n"
     ]
    },
    {
     "data": {
      "image/png": "[encoded data removed]",
      "text/plain": [
       "<Figure size 1296x576 with 1 Axes>"
      ]
     },
     "metadata": {
      "needs_background": "light"
     },
     "output_type": "display_data"
    }
   ],
   "source": [
    "print(\"Optimal number of features : %d\" % rfecv_logit.n_features_)\n",
    "# Plot number of features VS. cross-validation scores\n",
    "plt.figure(figsize=(18, 8));\n",
    "plt.xlabel(\"Number of features selected\")\n",
    "plt.ylabel(\"Cross validation score (nb of correct classifications)\")\n",
    "plt.plot(range(1, len(Brfecv_logit.grid_scores_) + 1), Brfecv_logit.grid_scores_)\n",
    "plt.show()"
   ]
  },
  {
   "cell_type": "markdown",
   "metadata": {
    "hidden": true
   },
   "source": [
    "All features were selected"
   ]
  },
  {
   "cell_type": "code",
   "execution_count": 67,
   "metadata": {
    "hidden": true
   },
   "outputs": [
    {
     "name": "stdout",
     "output_type": "stream",
     "text": [
      "Param Selected:  548.5764441274891\n"
     ]
    }
   ],
   "source": [
    "#get used features\n",
    "#co_ = []\n",
    "#for ix, cols in enumerate(Bl.columns):\n",
    "#    if Brfecv_logit.ranking_[ix] == 1:\n",
    "#        co_.append(cols)\n",
    "#Logx = Bl[co_]\n",
    "#print('Selected Features: \\n', Logx.columns)\n",
    "#Get Params\n",
    "print('Param Selected: ', Brfecv_logit.estimator_.C)"
   ]
  },
  {
   "cell_type": "markdown",
   "metadata": {
    "heading_collapsed": true,
    "hidden": true
   },
   "source": [
    "#### 1.1.1.3 Model Metrics"
   ]
  },
  {
   "cell_type": "code",
   "execution_count": 98,
   "metadata": {
    "hidden": true
   },
   "outputs": [
    {
     "data": {
      "text/plain": [
       "<Figure size 1296x576 with 0 Axes>"
      ]
     },
     "metadata": {},
     "output_type": "display_data"
    },
    {
     "data": {
      "image/png": "[encoded data removed]",
      "text/plain": [
       "<Figure size 432x288 with 2 Axes>"
      ]
     },
     "metadata": {
      "needs_background": "light"
     },
     "output_type": "display_data"
    },
    {
     "name": "stdout",
     "output_type": "stream",
     "text": [
      "              precision    recall  f1-score   support\n",
      "\n",
      "           0       0.36      0.46      0.40      1080\n",
      "           1       0.29      0.22      0.25      1052\n",
      "           2       0.24      0.09      0.13      1012\n",
      "           3       0.28      0.33      0.31       981\n",
      "           4       0.34      0.49      0.40       963\n",
      "\n",
      "    accuracy                           0.32      5088\n",
      "   macro avg       0.30      0.32      0.30      5088\n",
      "weighted avg       0.30      0.32      0.30      5088\n",
      "\n"
     ]
    }
   ],
   "source": [
    "# Split the data into a training set and a test set\n",
    "X_train, X_test, y_train, y_test = train_test_split(Bl, my, random_state=0)\n",
    "#Fit classifier\n",
    "logit.fit(X_train, y_train)\n",
    "#Confusion Matrix\n",
    "plt, metrics= model_metrics(X_test,y_test, logit, [1,2,3,4,5])\n",
    "plt.show()\n",
    "print(metrics)"
   ]
  },
  {
   "cell_type": "markdown",
   "metadata": {
    "heading_collapsed": true,
    "hidden": true
   },
   "source": [
    "#### Model Remarks"
   ]
  },
  {
   "cell_type": "markdown",
   "metadata": {
    "hidden": true
   },
   "source": [
    "We spent a lot of time training this model, so it could serve has a pipeline, for other models.\n",
    "\n",
    "But in reality this iterative search for the best coeficient was not worth it, since this classifier simply can't classify this multi-class target, and the model didn't improve much by the search. \n",
    "\n",
    "Nevertheless it was good to test our pipeline and see there it's working. From now on will probably only do this type of extensive search in models that show promise."
   ]
  },
  {
   "cell_type": "markdown",
   "metadata": {
    "heading_collapsed": true
   },
   "source": [
    "### 1.1.2 SVM"
   ]
  },
  {
   "cell_type": "markdown",
   "metadata": {
    "hidden": true
   },
   "source": [
    "For the support vector machine classifier, we decided to try the polynomial kernel, and the Gaussian kernel. \n",
    "\n",
    "Since we want our model to be able to create now linear decision boundaries, and to be able to classify a multi-class target, which excludes a sigmoid kernel. The later can only classify well binary targets, and it might be considered as a proxy to a neural network."
   ]
  },
  {
   "cell_type": "markdown",
   "metadata": {
    "hidden": true
   },
   "source": [
    "Let's start with a basic training of the kernels to see what the classifier is able to do. Have in mind that this is a very difficult problem to solve, and we will only use random parameters, and no cross validation so we are not excepting great results."
   ]
  },
  {
   "cell_type": "markdown",
   "metadata": {
    "hidden": true
   },
   "source": [
    "We start with the Polynomial kernel"
   ]
  },
  {
   "cell_type": "markdown",
   "metadata": {
    "heading_collapsed": true,
    "hidden": true
   },
   "source": [
    "#### 1.1.2.1 Basic Classifier Testing"
   ]
  },
  {
   "cell_type": "code",
   "execution_count": 11,
   "metadata": {
    "hidden": true
   },
   "outputs": [
    {
     "data": {
      "text/plain": [
       "<Figure size 1296x576 with 0 Axes>"
      ]
     },
     "metadata": {},
     "output_type": "display_data"
    },
    {
     "data": {
      "image/png": "[encoded data removed]",
      "text/plain": [
       "<Figure size 432x288 with 2 Axes>"
      ]
     },
     "metadata": {
      "needs_background": "light"
     },
     "output_type": "display_data"
    },
    {
     "name": "stdout",
     "output_type": "stream",
     "text": [
      "              precision    recall  f1-score   support\n",
      "\n",
      "           0       0.55      0.69      0.61      1079\n",
      "           1       0.38      0.33      0.35      1024\n",
      "           2       0.26      0.31      0.29       970\n",
      "           3       0.37      0.25      0.30       976\n",
      "           4       0.44      0.44      0.44      1036\n",
      "\n",
      "    accuracy                           0.41      5085\n",
      "   macro avg       0.40      0.40      0.40      5085\n",
      "weighted avg       0.40      0.41      0.40      5085\n",
      "\n"
     ]
    }
   ],
   "source": [
    "X_train, X_test, y_train, y_test = train_test_split(Bl, my, random_state=0)\n",
    "svclassifier = SVC(kernel='poly', degree=5, C=1)\n",
    "svclassifier.fit(X_train, y_train)\n",
    "plt, metrics= model_metrics(X_test,y_test, svclassifier, [1,2,3,4,5])\n",
    "plt.show()\n",
    "print(metrics)"
   ]
  },
  {
   "cell_type": "markdown",
   "metadata": {
    "hidden": true
   },
   "source": [
    "It was able to classify the 0 speed category pretty well, although the general result was bad. Let's now see the Gaussian Kernel."
   ]
  },
  {
   "cell_type": "code",
   "execution_count": 106,
   "metadata": {
    "hidden": true
   },
   "outputs": [
    {
     "data": {
      "text/plain": [
       "<Figure size 1296x576 with 0 Axes>"
      ]
     },
     "metadata": {},
     "output_type": "display_data"
    },
    {
     "data": {
      "image/png": "[encoded data removed]",
      "text/plain": [
       "<Figure size 432x288 with 2 Axes>"
      ]
     },
     "metadata": {
      "needs_background": "light"
     },
     "output_type": "display_data"
    },
    {
     "name": "stdout",
     "output_type": "stream",
     "text": [
      "              precision    recall  f1-score   support\n",
      "\n",
      "           0       0.43      0.62      0.51      1080\n",
      "           1       0.35      0.23      0.28      1052\n",
      "           2       0.29      0.16      0.21      1012\n",
      "           3       0.32      0.31      0.32       981\n",
      "           4       0.39      0.54      0.45       963\n",
      "\n",
      "    accuracy                           0.37      5088\n",
      "   macro avg       0.36      0.37      0.35      5088\n",
      "weighted avg       0.36      0.37      0.35      5088\n",
      "\n"
     ]
    }
   ],
   "source": [
    "svclassifier2 = SVC(kernel='rbf', C=1)\n",
    "svclassifier2.fit(X_train, y_train)\n",
    "plt, metrics= model_metrics(X_test,y_test, svclassifier2, [1,2,3,4,5])\n",
    "plt.show()\n",
    "print(metrics)"
   ]
  },
  {
   "cell_type": "markdown",
   "metadata": {
    "hidden": true
   },
   "source": [
    "This kernel get's worst results them the previous, they both seem to be better at classification in the extreme cases."
   ]
  },
  {
   "cell_type": "markdown",
   "metadata": {
    "heading_collapsed": true,
    "hidden": true
   },
   "source": [
    "#### 1.1.2.2 One Vs Rest Classifier Methodology\n",
    "\n",
    "(Explain Methodology and why it's useful)"
   ]
  },
  {
   "cell_type": "code",
   "execution_count": 12,
   "metadata": {
    "hidden": true
   },
   "outputs": [
    {
     "data": {
      "text/plain": [
       "<Figure size 1296x576 with 0 Axes>"
      ]
     },
     "metadata": {},
     "output_type": "display_data"
    },
    {
     "data": {
      "image/png": "[encoded data removed]",
      "text/plain": [
       "<Figure size 432x288 with 2 Axes>"
      ]
     },
     "metadata": {
      "needs_background": "light"
     },
     "output_type": "display_data"
    },
    {
     "name": "stdout",
     "output_type": "stream",
     "text": [
      "              precision    recall  f1-score   support\n",
      "\n",
      "           0       0.49      0.77      0.59      1079\n",
      "           1       0.37      0.30      0.33      1024\n",
      "           2       0.30      0.17      0.22       970\n",
      "           3       0.37      0.33      0.35       976\n",
      "           4       0.44      0.49      0.47      1036\n",
      "\n",
      "    accuracy                           0.42      5085\n",
      "   macro avg       0.39      0.41      0.39      5085\n",
      "weighted avg       0.40      0.42      0.40      5085\n",
      "\n"
     ]
    }
   ],
   "source": [
    "svclassifier = OneVsRestClassifier(SVC(kernel='poly', degree=5, C=1))\n",
    "svclassifier.fit(X_train, y_train)\n",
    "plt, metrics= model_metrics(X_test,y_test, svclassifier, [1,2,3,4,5])\n",
    "plt.show()\n",
    "print(metrics)"
   ]
  },
  {
   "cell_type": "markdown",
   "metadata": {
    "hidden": true
   },
   "source": [
    "Obtains slightly better results, but needs 5times the computacion time."
   ]
  },
  {
   "cell_type": "markdown",
   "metadata": {
    "heading_collapsed": true,
    "hidden": true
   },
   "source": [
    "#### 1.1.2.3 Hyper-Parameter Selection"
   ]
  },
  {
   "cell_type": "markdown",
   "metadata": {
    "hidden": true
   },
   "source": [
    "Let's now find a good set of hyper parameters to a random search, since is much less computacionaly expensive them\n",
    "a grid search and there are evidence that the results will not differ much. Cite\n",
    "\n",
    "This computation will take about 5 h, it will test 20 sets of parameters from discrete parameters distributions, with a 10 k-fold cross validation on every model, and for every model it will use one vs rest methodology, since we've seen that it obtains best results, therefore creating 5 sub-models.\n",
    "\n",
    "Since it's a very heavy computation we will not actually run it, because we have no access to any server. But if we were doing this for real this was the correct way."
   ]
  },
  {
   "cell_type": "code",
   "execution_count": null,
   "metadata": {
    "code_folding": [],
    "hidden": true
   },
   "outputs": [],
   "source": [
    "#Not runned\n",
    "svc_param_selection(Bl, my, 10, 20)"
   ]
  },
  {
   "cell_type": "code",
   "execution_count": null,
   "metadata": {
    "hidden": true
   },
   "outputs": [],
   "source": [
    "plt, metrics= model_metrics(X_test,y_test, svclassifier2, [1,2,3,4,5])\n",
    "plt.show()\n",
    "print(metrics)"
   ]
  },
  {
   "cell_type": "markdown",
   "metadata": {
    "heading_collapsed": true,
    "hidden": true
   },
   "source": [
    "#### Model Remarks"
   ]
  },
  {
   "cell_type": "markdown",
   "metadata": {
    "hidden": true
   },
   "source": [
    "We were not expecting to obtain a great deal of performance from the linear models, since this is a categorical dataset. But in the polynomial SVM we obtained a not so bad performance given the number of categories to classify. This performance could probably be improved by the previously discussed algorithm.\n",
    "\n",
    "After considering the computation time for hyper-parameters, feature selection, and other methods we consider that could improve the performance of the models we are training decided that from now on we will only use basic approach to training. \n",
    "\n",
    "This will allow us to see more models and different approaches to multi-class classifier training. And since this is not a work for publication the slight improve in model performance isn't work the time spent training this models in this more complex manner.\n",
    "\n",
    "We might open an exception for a particularly promising model."
   ]
  },
  {
   "cell_type": "markdown",
   "metadata": {
    "heading_collapsed": true
   },
   "source": [
    "### 1.1.3 Random Forests"
   ]
  },
  {
   "cell_type": "code",
   "execution_count": 27,
   "metadata": {
    "hidden": true
   },
   "outputs": [
    {
     "data": {
      "text/plain": [
       "<Figure size 1296x576 with 0 Axes>"
      ]
     },
     "metadata": {},
     "output_type": "display_data"
    },
    {
     "data": {
      "image/png": "[encoded data removed]",
      "text/plain": [
       "<Figure size 432x288 with 2 Axes>"
      ]
     },
     "metadata": {
      "needs_background": "light"
     },
     "output_type": "display_data"
    },
    {
     "name": "stdout",
     "output_type": "stream",
     "text": [
      "              precision    recall  f1-score   support\n",
      "\n",
      "           0       0.87      1.00      0.93      1079\n",
      "           1       0.52      0.53      0.53      1024\n",
      "           2       0.38      0.35      0.36       970\n",
      "           3       0.46      0.48      0.47       976\n",
      "           4       0.50      0.43      0.46      1036\n",
      "\n",
      "    accuracy                           0.57      5085\n",
      "   macro avg       0.55      0.56      0.55      5085\n",
      "weighted avg       0.55      0.57      0.56      5085\n",
      "\n"
     ]
    }
   ],
   "source": [
    "from sklearn.ensemble import ExtraTreesClassifier\n",
    "clf = ExtraTreesClassifier(n_estimators=100, random_state=0)\n",
    "clf.fit(X_train, y_train)\n",
    "plt, metrics= model_metrics(X_test,y_test, clf, [1,2,3,4,5])\n",
    "plt.show()\n",
    "print(metrics)"
   ]
  },
  {
   "cell_type": "markdown",
   "metadata": {
    "heading_collapsed": true
   },
   "source": [
    "### 1.1.4 K-neighbors"
   ]
  },
  {
   "cell_type": "code",
   "execution_count": 28,
   "metadata": {
    "hidden": true
   },
   "outputs": [
    {
     "data": {
      "text/plain": [
       "<Figure size 1296x576 with 0 Axes>"
      ]
     },
     "metadata": {},
     "output_type": "display_data"
    },
    {
     "data": {
      "image/png": "[encoded data removed]",
      "text/plain": [
       "<Figure size 432x288 with 2 Axes>"
      ]
     },
     "metadata": {
      "needs_background": "light"
     },
     "output_type": "display_data"
    },
    {
     "name": "stdout",
     "output_type": "stream",
     "text": [
      "              precision    recall  f1-score   support\n",
      "\n",
      "           0       0.76      0.95      0.84      1079\n",
      "           1       0.47      0.34      0.40      1024\n",
      "           2       0.33      0.23      0.27       970\n",
      "           3       0.38      0.45      0.41       976\n",
      "           4       0.40      0.45      0.43      1036\n",
      "\n",
      "    accuracy                           0.49      5085\n",
      "   macro avg       0.47      0.48      0.47      5085\n",
      "weighted avg       0.47      0.49      0.48      5085\n",
      "\n"
     ]
    }
   ],
   "source": [
    "from sklearn.neighbors import KNeighborsClassifier\n",
    "clf = OneVsRestClassifier(KNeighborsClassifier(n_neighbors=3))\n",
    "clf.fit(X_train, y_train)\n",
    "plt, metrics= model_metrics(X_test,y_test, clf, [1,2,3,4,5])\n",
    "plt.show()\n",
    "print(metrics)"
   ]
  },
  {
   "cell_type": "markdown",
   "metadata": {
    "heading_collapsed": true
   },
   "source": [
    "### 1.1.5 Categorical Naive Bayes"
   ]
  },
  {
   "cell_type": "code",
   "execution_count": 18,
   "metadata": {
    "hidden": true
   },
   "outputs": [
    {
     "data": {
      "text/plain": [
       "<Figure size 1296x576 with 0 Axes>"
      ]
     },
     "metadata": {},
     "output_type": "display_data"
    },
    {
     "data": {
      "image/png": "[encoded data removed]",
      "text/plain": [
       "<Figure size 432x288 with 2 Axes>"
      ]
     },
     "metadata": {
      "needs_background": "light"
     },
     "output_type": "display_data"
    },
    {
     "name": "stdout",
     "output_type": "stream",
     "text": [
      "              precision    recall  f1-score   support\n",
      "\n",
      "           0       0.34      0.43      0.38      1079\n",
      "           1       0.28      0.25      0.26      1024\n",
      "           2       0.26      0.12      0.16       970\n",
      "           3       0.30      0.36      0.33       976\n",
      "           4       0.38      0.44      0.41      1036\n",
      "\n",
      "    accuracy                           0.32      5085\n",
      "   macro avg       0.31      0.32      0.31      5085\n",
      "weighted avg       0.31      0.32      0.31      5085\n",
      "\n"
     ]
    }
   ],
   "source": [
    "from sklearn.naive_bayes import CategoricalNB\n",
    "clf = OneVsRestClassifier(CategoricalNB())\n",
    "clf.fit(X_train, y_train)\n",
    "plt, metrics= model_metrics(X_test,y_test, clf, [1,2,3,4,5])\n",
    "plt.show()\n",
    "print(metrics)"
   ]
  },
  {
   "cell_type": "markdown",
   "metadata": {},
   "source": [
    "### 1.1.6 Voting Classifier "
   ]
  },
  {
   "cell_type": "markdown",
   "metadata": {},
   "source": [
    "## 1.2 Binary Classification"
   ]
  },
  {
   "cell_type": "markdown",
   "metadata": {},
   "source": [
    "### 1.2.1 LogitRegression"
   ]
  },
  {
   "cell_type": "markdown",
   "metadata": {
    "heading_collapsed": true
   },
   "source": [
    "### 1.2.2 SVM"
   ]
  },
  {
   "cell_type": "markdown",
   "metadata": {
    "hidden": true
   },
   "source": [
    "Sigmoid Kernel"
   ]
  },
  {
   "cell_type": "markdown",
   "metadata": {},
   "source": [
    "### 1.2.3 Random Forests"
   ]
  },
  {
   "cell_type": "markdown",
   "metadata": {
    "heading_collapsed": true
   },
   "source": [
    "### 1.2.4 K-neighbors"
   ]
  },
  {
   "cell_type": "code",
   "execution_count": 7,
   "metadata": {
    "hidden": true
   },
   "outputs": [
    {
     "data": {
      "text/plain": [
       "<Figure size 1296x576 with 0 Axes>"
      ]
     },
     "metadata": {},
     "output_type": "display_data"
    },
    {
     "data": {
      "image/png": "[encoded data removed]",
      "text/plain": [
       "<Figure size 432x288 with 2 Axes>"
      ]
     },
     "metadata": {
      "needs_background": "light"
     },
     "output_type": "display_data"
    },
    {
     "name": "stdout",
     "output_type": "stream",
     "text": [
      "              precision    recall  f1-score   support\n",
      "\n",
      "           0       0.71      0.83      0.76      2669\n",
      "           1       0.79      0.67      0.72      2709\n",
      "\n",
      "    accuracy                           0.74      5378\n",
      "   macro avg       0.75      0.75      0.74      5378\n",
      "weighted avg       0.75      0.74      0.74      5378\n",
      "\n"
     ]
    }
   ],
   "source": [
    "X_train, X_test, y_train, y_test = train_test_split(Bn, by, random_state=0)\n",
    "from sklearn.neighbors import KNeighborsClassifier\n",
    "clf = (KNeighborsClassifier(n_neighbors=3))\n",
    "clf.fit(X_train, y_train)\n",
    "plt, metrics= model_metrics(X_test,y_test, clf, [1,2,3,4,5])\n",
    "plt.show()\n",
    "print(metrics)"
   ]
  },
  {
   "cell_type": "markdown",
   "metadata": {},
   "source": [
    "### 1.2.5 Bernoulli Naive Bayes"
   ]
  },
  {
   "cell_type": "markdown",
   "metadata": {
    "heading_collapsed": true
   },
   "source": [
    "# Test"
   ]
  },
  {
   "cell_type": "markdown",
   "metadata": {
    "heading_collapsed": true,
    "hidden": true
   },
   "source": [
    "## 1.3. Classification - Results and Discussion "
   ]
  },
  {
   "cell_type": "code",
   "execution_count": 37,
   "metadata": {
    "code_folding": [],
    "hidden": true,
    "run_control": {
     "marked": false
    }
   },
   "outputs": [
    {
     "ename": "ValueError",
     "evalue": "LogisticRegression should be a binary classifer",
     "output_type": "error",
     "traceback": [
      "\u001b[1;31m---------------------------------------------------------------------------\u001b[0m",
      "\u001b[1;31mValueError\u001b[0m                                Traceback (most recent call last)",
      "\u001b[1;32m<ipython-input-37-9690028b03f1>\u001b[0m in \u001b[0;36m<module>\u001b[1;34m\u001b[0m\n\u001b[0;32m     21\u001b[0m     viz = plot_roc_curve(classifier, Logx.iloc[test], my[test],\n\u001b[0;32m     22\u001b[0m                          \u001b[0mname\u001b[0m\u001b[1;33m=\u001b[0m\u001b[1;34m'ROC fold {}'\u001b[0m\u001b[1;33m.\u001b[0m\u001b[0mformat\u001b[0m\u001b[1;33m(\u001b[0m\u001b[0mi\u001b[0m\u001b[1;33m)\u001b[0m\u001b[1;33m,\u001b[0m\u001b[1;33m\u001b[0m\u001b[1;33m\u001b[0m\u001b[0m\n\u001b[1;32m---> 23\u001b[1;33m                          alpha=0.3, lw=1, ax=ax)\n\u001b[0m\u001b[0;32m     24\u001b[0m     \u001b[0minterp_tpr\u001b[0m \u001b[1;33m=\u001b[0m \u001b[0minterp\u001b[0m\u001b[1;33m(\u001b[0m\u001b[0mmean_fpr\u001b[0m\u001b[1;33m,\u001b[0m \u001b[0mviz\u001b[0m\u001b[1;33m.\u001b[0m\u001b[0mfpr\u001b[0m\u001b[1;33m,\u001b[0m \u001b[0mviz\u001b[0m\u001b[1;33m.\u001b[0m\u001b[0mtpr\u001b[0m\u001b[1;33m)\u001b[0m\u001b[1;33m\u001b[0m\u001b[1;33m\u001b[0m\u001b[0m\n\u001b[0;32m     25\u001b[0m     \u001b[0minterp_tpr\u001b[0m\u001b[1;33m[\u001b[0m\u001b[1;36m0\u001b[0m\u001b[1;33m]\u001b[0m \u001b[1;33m=\u001b[0m \u001b[1;36m0.0\u001b[0m\u001b[1;33m\u001b[0m\u001b[1;33m\u001b[0m\u001b[0m\n",
      "\u001b[1;32m~\\Miniconda3\\envs\\AA\\lib\\site-packages\\sklearn\\metrics\\_plot\\roc_curve.py\u001b[0m in \u001b[0;36mplot_roc_curve\u001b[1;34m(estimator, X, y, sample_weight, drop_intermediate, response_method, name, ax, **kwargs)\u001b[0m\n\u001b[0;32m    177\u001b[0m     \u001b[1;32mif\u001b[0m \u001b[0my_pred\u001b[0m\u001b[1;33m.\u001b[0m\u001b[0mndim\u001b[0m \u001b[1;33m!=\u001b[0m \u001b[1;36m1\u001b[0m\u001b[1;33m:\u001b[0m\u001b[1;33m\u001b[0m\u001b[1;33m\u001b[0m\u001b[0m\n\u001b[0;32m    178\u001b[0m         \u001b[1;32mif\u001b[0m \u001b[0my_pred\u001b[0m\u001b[1;33m.\u001b[0m\u001b[0mshape\u001b[0m\u001b[1;33m[\u001b[0m\u001b[1;36m1\u001b[0m\u001b[1;33m]\u001b[0m \u001b[1;33m!=\u001b[0m \u001b[1;36m2\u001b[0m\u001b[1;33m:\u001b[0m\u001b[1;33m\u001b[0m\u001b[1;33m\u001b[0m\u001b[0m\n\u001b[1;32m--> 179\u001b[1;33m             \u001b[1;32mraise\u001b[0m \u001b[0mValueError\u001b[0m\u001b[1;33m(\u001b[0m\u001b[0mclassification_error\u001b[0m\u001b[1;33m)\u001b[0m\u001b[1;33m\u001b[0m\u001b[1;33m\u001b[0m\u001b[0m\n\u001b[0m\u001b[0;32m    180\u001b[0m         \u001b[1;32melse\u001b[0m\u001b[1;33m:\u001b[0m\u001b[1;33m\u001b[0m\u001b[1;33m\u001b[0m\u001b[0m\n\u001b[0;32m    181\u001b[0m             \u001b[0my_pred\u001b[0m \u001b[1;33m=\u001b[0m \u001b[0my_pred\u001b[0m\u001b[1;33m[\u001b[0m\u001b[1;33m:\u001b[0m\u001b[1;33m,\u001b[0m \u001b[1;36m1\u001b[0m\u001b[1;33m]\u001b[0m\u001b[1;33m\u001b[0m\u001b[1;33m\u001b[0m\u001b[0m\n",
      "\u001b[1;31mValueError\u001b[0m: LogisticRegression should be a binary classifer"
     ]
    },
    {
     "data": {
      "image/png": "[encoded data removed]",
      "text/plain": [
       "<Figure size 432x288 with 1 Axes>"
      ]
     },
     "metadata": {
      "needs_background": "light"
     },
     "output_type": "display_data"
    }
   ],
   "source": [
    "from scipy import interp\n",
    "from sklearn.metrics import auc\n",
    "from sklearn.metrics import plot_roc_curve\n",
    "#get used features\n",
    "c_del = []\n",
    "for ix, cols in enumerate(Bl.columns):\n",
    "    if Brfecv_logit.ranking_[ix] != 1:\n",
    "        c_del.append(cols)\n",
    "Logx = Bl.drop(c_del, axis=1)\n",
    "\n",
    "tprs = []\n",
    "aucs = []\n",
    "mean_fpr = np.linspace(0, 1, 100)\n",
    "\n",
    "#ROC analysis\n",
    "\n",
    "classifier = Brfecv_logit.estimator_\n",
    "fig, ax = plt.subplots()\n",
    "for i, (train, test) in enumerate(cv.split(Logx, my)):\n",
    "    viz = plot_roc_curve(classifier, Logx.iloc[test], my[test],\n",
    "                         name='ROC fold {}'.format(i),\n",
    "                         alpha=0.3, lw=1, ax=ax)\n",
    "    interp_tpr = interp(mean_fpr, viz.fpr, viz.tpr)\n",
    "    interp_tpr[0] = 0.0\n",
    "    tprs.append(interp_tpr)\n",
    "    aucs.append(viz.roc_auc)\n",
    "\n",
    "#Plot ROC\n",
    "\n",
    "ax.plot([0, 1], [0, 1], linestyle='--', lw=2, color='r',\n",
    "        label='Chance', alpha=.8)\n",
    "\n",
    "mean_tpr = np.mean(tprs, axis=0)\n",
    "mean_tpr[-1] = 1.0\n",
    "mean_auc = auc(mean_fpr, mean_tpr)\n",
    "std_auc = np.std(aucs)\n",
    "ax.plot(mean_fpr, mean_tpr, color='b',\n",
    "        label=r'Mean ROC (AUC = %0.2f $\\pm$ %0.2f)' % (mean_auc, std_auc),\n",
    "        lw=2, alpha=.8)\n",
    "\n",
    "std_tpr = np.std(tprs, axis=0)\n",
    "tprs_upper = np.minimum(mean_tpr + std_tpr, 1)\n",
    "tprs_lower = np.maximum(mean_tpr - std_tpr, 0)\n",
    "ax.fill_between(mean_fpr, tprs_lower, tprs_upper, color='grey', alpha=.2,\n",
    "                label=r'$\\pm$ 1 std. dev.')\n",
    "\n",
    "ax.set(xlim=[-0.05, 1.05], ylim=[-0.05, 1.05],\n",
    "       title=\"Receiver operating characteristic example\")\n",
    "ax.legend(loc=\"lower right\")\n",
    "plt.show()"
   ]
  }
 ],
 "metadata": {
  "kernelspec": {
   "display_name": "Python 3",
   "language": "python",
   "name": "python3"
  },
  "language_info": {
   "codemirror_mode": {
    "name": "ipython",
    "version": 3
   },
   "file_extension": ".py",
   "mimetype": "text/x-python",
   "name": "python",
   "nbconvert_exporter": "python",
   "pygments_lexer": "ipython3",
   "version": "3.7.4"
  },
  "varInspector": {
   "cols": {
    "lenName": 16,
    "lenType": 16,
    "lenVar": 40
   },
   "kernels_config": {
    "python": {
     "delete_cmd_postfix": "",
     "delete_cmd_prefix": "del ",
     "library": "var_list.py",
     "varRefreshCmd": "print(var_dic_list())"
    },
    "r": {
     "delete_cmd_postfix": ") ",
     "delete_cmd_prefix": "rm(",
     "library": "var_list.r",
     "varRefreshCmd": "cat(var_dic_list()) "
    }
   },
   "position": {
    "height": "322.4px",
    "left": "1107.4px",
    "right": "20px",
    "top": "140px",
    "width": "350px"
   },
   "types_to_exclude": [
    "module",
    "function",
    "builtin_function_or_method",
    "instance",
    "_Feature"
   ],
   "window_display": false
  }
 },
 "nbformat": 4,
 "nbformat_minor": 2
}
