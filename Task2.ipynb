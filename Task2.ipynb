{
 "cells": [
  {
   "cell_type": "markdown",
   "metadata": {},
   "source": [
    "# Task 2 (Unsupervised Learning) - Charactering Adopted Pets and Adoption Speed"
   ]
  },
  {
   "cell_type": "markdown",
   "metadata": {
    "colab_type": "text",
    "id": "n4U-4wbq1lTd"
   },
   "source": [
    "In this task you should **use unsupervised learning algorithms and try to characterize pets that were actually adopted and their adoption speed**. You can use:\n",
    "* **Association rule mining** to find **associations between the features and the target Adoption/AdoptionSpeed**.\n",
    "* **Clustering algorithms to find similar groups of pets**. Is it possible to find groups of pets with the same/similar adoption speed.\n",
    "* **Be creative and define your own unsupervised analysis!** What would it be interesting to find out ?"
   ]
  },
  {
   "cell_type": "markdown",
   "metadata": {
    "heading_collapsed": true
   },
   "source": [
    "## Loading Datasets"
   ]
  },
  {
   "cell_type": "code",
   "execution_count": 1,
   "metadata": {
    "hidden": true,
    "init_cell": true
   },
   "outputs": [],
   "source": [
    "# Load data\n",
    "import pandas as pd\n",
    "\n",
    "Bl = pd.read_csv(\"Balanced_Dataset.csv\", index_col=0)\n",
    "Bn = pd.read_csv('Binary_Dataset.csv', index_col=0)\n",
    "Bin = pd.read_csv('Binary_Imbalanced_Dataset.csv', index_col=0)\n",
    "#Create Multy class target\n",
    "my = Bl['Target'].values\n",
    "Bl = Bl.drop(['Target'], axis=1)\n",
    "#Create Binary Target\n",
    "by = Bn['Target'].values\n",
    "Bn = Bn.drop(['Target'], axis=1)\n",
    "#Create Binary Imbalanced Target\n",
    "iby = Bin['Target'].values\n",
    "Bin = Bin.drop(['Target'], axis=1)"
   ]
  },
  {
   "cell_type": "markdown",
   "metadata": {
    "heading_collapsed": true
   },
   "source": [
    "## Importing Modules and Functions"
   ]
  },
  {
   "cell_type": "code",
   "execution_count": 107,
   "metadata": {
    "hidden": true,
    "init_cell": true
   },
   "outputs": [],
   "source": [
    "##Import all Modules\n",
    "import sys\n",
    "import numpy as np\n",
    "import math\n",
    "import seaborn as sns\n",
    "import matplotlib.pyplot as plt\n",
    "from sklearn.cluster import AgglomerativeClustering, KMeans\n",
    "from sklearn.ensemble import ExtraTreesClassifier\n",
    "from sklearn.feature_selection import SelectKBest, chi2, SelectFromModel\n",
    "from sklearn.model_selection import train_test_split\n",
    "from sklearn import metrics\n",
    "from IPython.display import display\n",
    "## Import Functions\n",
    "from Task2_functions import *\n",
    "from Task1_functions import feature_selector\n",
    "from EDA_functions import make_count_plot\n",
    "main_count = pd.DataFrame(by)[0].value_counts(normalize=True).sort_index()"
   ]
  },
  {
   "cell_type": "code",
   "execution_count": 100,
   "metadata": {
    "hidden": true,
    "scrolled": true
   },
   "outputs": [
    {
     "data": {
      "text/html": [
       "<div>\n",
       "<style scoped>\n",
       "    .dataframe tbody tr th:only-of-type {\n",
       "        vertical-align: middle;\n",
       "    }\n",
       "\n",
       "    .dataframe tbody tr th {\n",
       "        vertical-align: top;\n",
       "    }\n",
       "\n",
       "    .dataframe thead th {\n",
       "        text-align: right;\n",
       "    }\n",
       "</style>\n",
       "<table border=\"1\" class=\"dataframe\">\n",
       "  <thead>\n",
       "    <tr style=\"text-align: right;\">\n",
       "      <th></th>\n",
       "      <th>0</th>\n",
       "    </tr>\n",
       "  </thead>\n",
       "  <tbody>\n",
       "    <tr>\n",
       "      <th>0</th>\n",
       "      <td>2</td>\n",
       "    </tr>\n",
       "    <tr>\n",
       "      <th>1</th>\n",
       "      <td>0</td>\n",
       "    </tr>\n",
       "    <tr>\n",
       "      <th>2</th>\n",
       "      <td>3</td>\n",
       "    </tr>\n",
       "    <tr>\n",
       "      <th>3</th>\n",
       "      <td>2</td>\n",
       "    </tr>\n",
       "    <tr>\n",
       "      <th>4</th>\n",
       "      <td>2</td>\n",
       "    </tr>\n",
       "    <tr>\n",
       "      <th>...</th>\n",
       "      <td>...</td>\n",
       "    </tr>\n",
       "    <tr>\n",
       "      <th>20332</th>\n",
       "      <td>3</td>\n",
       "    </tr>\n",
       "    <tr>\n",
       "      <th>20333</th>\n",
       "      <td>3</td>\n",
       "    </tr>\n",
       "    <tr>\n",
       "      <th>20334</th>\n",
       "      <td>3</td>\n",
       "    </tr>\n",
       "    <tr>\n",
       "      <th>20335</th>\n",
       "      <td>3</td>\n",
       "    </tr>\n",
       "    <tr>\n",
       "      <th>20336</th>\n",
       "      <td>3</td>\n",
       "    </tr>\n",
       "  </tbody>\n",
       "</table>\n",
       "<p>20337 rows × 1 columns</p>\n",
       "</div>"
      ],
      "text/plain": [
       "       0\n",
       "0      2\n",
       "1      0\n",
       "2      3\n",
       "3      2\n",
       "4      2\n",
       "...   ..\n",
       "20332  3\n",
       "20333  3\n",
       "20334  3\n",
       "20335  3\n",
       "20336  3\n",
       "\n",
       "[20337 rows x 1 columns]"
      ]
     },
     "execution_count": 100,
     "metadata": {},
     "output_type": "execute_result"
    }
   ],
   "source": [
    "pd.DataFrame(my)"
   ]
  },
  {
   "cell_type": "code",
   "execution_count": 94,
   "metadata": {
    "hidden": true
   },
   "outputs": [
    {
     "data": {
      "text/html": [
       "<div>\n",
       "<style scoped>\n",
       "    .dataframe tbody tr th:only-of-type {\n",
       "        vertical-align: middle;\n",
       "    }\n",
       "\n",
       "    .dataframe tbody tr th {\n",
       "        vertical-align: top;\n",
       "    }\n",
       "\n",
       "    .dataframe thead th {\n",
       "        text-align: right;\n",
       "    }\n",
       "</style>\n",
       "<table border=\"1\" class=\"dataframe\">\n",
       "  <thead>\n",
       "    <tr style=\"text-align: right;\">\n",
       "      <th></th>\n",
       "      <th>Type</th>\n",
       "      <th>Gender</th>\n",
       "      <th>FurLength</th>\n",
       "      <th>agecat</th>\n",
       "      <th>breedcat</th>\n",
       "      <th>namecat</th>\n",
       "      <th>descriptcat</th>\n",
       "      <th>colorcat</th>\n",
       "      <th>colorcat2</th>\n",
       "      <th>healthcat</th>\n",
       "      <th>statecat</th>\n",
       "      <th>MaturitySizecat</th>\n",
       "      <th>Photocat</th>\n",
       "      <th>quantitycat</th>\n",
       "      <th>paidcat</th>\n",
       "    </tr>\n",
       "  </thead>\n",
       "  <tbody>\n",
       "    <tr>\n",
       "      <th>0</th>\n",
       "      <td>2</td>\n",
       "      <td>1</td>\n",
       "      <td>1</td>\n",
       "      <td>2</td>\n",
       "      <td>0</td>\n",
       "      <td>0</td>\n",
       "      <td>0</td>\n",
       "      <td>1</td>\n",
       "      <td>1</td>\n",
       "      <td>0</td>\n",
       "      <td>1</td>\n",
       "      <td>0</td>\n",
       "      <td>1</td>\n",
       "      <td>0</td>\n",
       "      <td>1</td>\n",
       "    </tr>\n",
       "    <tr>\n",
       "      <th>1</th>\n",
       "      <td>2</td>\n",
       "      <td>1</td>\n",
       "      <td>2</td>\n",
       "      <td>0</td>\n",
       "      <td>0</td>\n",
       "      <td>0</td>\n",
       "      <td>0</td>\n",
       "      <td>1</td>\n",
       "      <td>1</td>\n",
       "      <td>0</td>\n",
       "      <td>0</td>\n",
       "      <td>1</td>\n",
       "      <td>2</td>\n",
       "      <td>0</td>\n",
       "      <td>0</td>\n",
       "    </tr>\n",
       "    <tr>\n",
       "      <th>2</th>\n",
       "      <td>1</td>\n",
       "      <td>1</td>\n",
       "      <td>2</td>\n",
       "      <td>0</td>\n",
       "      <td>0</td>\n",
       "      <td>0</td>\n",
       "      <td>0</td>\n",
       "      <td>1</td>\n",
       "      <td>1</td>\n",
       "      <td>1</td>\n",
       "      <td>1</td>\n",
       "      <td>1</td>\n",
       "      <td>5</td>\n",
       "      <td>0</td>\n",
       "      <td>0</td>\n",
       "    </tr>\n",
       "    <tr>\n",
       "      <th>3</th>\n",
       "      <td>1</td>\n",
       "      <td>2</td>\n",
       "      <td>1</td>\n",
       "      <td>2</td>\n",
       "      <td>0</td>\n",
       "      <td>1</td>\n",
       "      <td>0</td>\n",
       "      <td>1</td>\n",
       "      <td>1</td>\n",
       "      <td>1</td>\n",
       "      <td>0</td>\n",
       "      <td>1</td>\n",
       "      <td>5</td>\n",
       "      <td>0</td>\n",
       "      <td>1</td>\n",
       "    </tr>\n",
       "    <tr>\n",
       "      <th>4</th>\n",
       "      <td>1</td>\n",
       "      <td>1</td>\n",
       "      <td>1</td>\n",
       "      <td>0</td>\n",
       "      <td>0</td>\n",
       "      <td>1</td>\n",
       "      <td>0</td>\n",
       "      <td>0</td>\n",
       "      <td>1</td>\n",
       "      <td>0</td>\n",
       "      <td>1</td>\n",
       "      <td>1</td>\n",
       "      <td>3</td>\n",
       "      <td>0</td>\n",
       "      <td>0</td>\n",
       "    </tr>\n",
       "    <tr>\n",
       "      <th>...</th>\n",
       "      <td>...</td>\n",
       "      <td>...</td>\n",
       "      <td>...</td>\n",
       "      <td>...</td>\n",
       "      <td>...</td>\n",
       "      <td>...</td>\n",
       "      <td>...</td>\n",
       "      <td>...</td>\n",
       "      <td>...</td>\n",
       "      <td>...</td>\n",
       "      <td>...</td>\n",
       "      <td>...</td>\n",
       "      <td>...</td>\n",
       "      <td>...</td>\n",
       "      <td>...</td>\n",
       "    </tr>\n",
       "    <tr>\n",
       "      <th>20332</th>\n",
       "      <td>2</td>\n",
       "      <td>2</td>\n",
       "      <td>1</td>\n",
       "      <td>4</td>\n",
       "      <td>2</td>\n",
       "      <td>0</td>\n",
       "      <td>0</td>\n",
       "      <td>2</td>\n",
       "      <td>1</td>\n",
       "      <td>1</td>\n",
       "      <td>0</td>\n",
       "      <td>1</td>\n",
       "      <td>2</td>\n",
       "      <td>0</td>\n",
       "      <td>0</td>\n",
       "    </tr>\n",
       "    <tr>\n",
       "      <th>20333</th>\n",
       "      <td>2</td>\n",
       "      <td>2</td>\n",
       "      <td>1</td>\n",
       "      <td>3</td>\n",
       "      <td>0</td>\n",
       "      <td>0</td>\n",
       "      <td>1</td>\n",
       "      <td>2</td>\n",
       "      <td>1</td>\n",
       "      <td>0</td>\n",
       "      <td>0</td>\n",
       "      <td>1</td>\n",
       "      <td>4</td>\n",
       "      <td>1</td>\n",
       "      <td>0</td>\n",
       "    </tr>\n",
       "    <tr>\n",
       "      <th>20334</th>\n",
       "      <td>2</td>\n",
       "      <td>1</td>\n",
       "      <td>1</td>\n",
       "      <td>2</td>\n",
       "      <td>2</td>\n",
       "      <td>1</td>\n",
       "      <td>0</td>\n",
       "      <td>1</td>\n",
       "      <td>1</td>\n",
       "      <td>0</td>\n",
       "      <td>1</td>\n",
       "      <td>1</td>\n",
       "      <td>3</td>\n",
       "      <td>0</td>\n",
       "      <td>0</td>\n",
       "    </tr>\n",
       "    <tr>\n",
       "      <th>20335</th>\n",
       "      <td>2</td>\n",
       "      <td>1</td>\n",
       "      <td>1</td>\n",
       "      <td>2</td>\n",
       "      <td>2</td>\n",
       "      <td>1</td>\n",
       "      <td>0</td>\n",
       "      <td>0</td>\n",
       "      <td>0</td>\n",
       "      <td>0</td>\n",
       "      <td>0</td>\n",
       "      <td>1</td>\n",
       "      <td>5</td>\n",
       "      <td>0</td>\n",
       "      <td>0</td>\n",
       "    </tr>\n",
       "    <tr>\n",
       "      <th>20336</th>\n",
       "      <td>2</td>\n",
       "      <td>3</td>\n",
       "      <td>2</td>\n",
       "      <td>4</td>\n",
       "      <td>2</td>\n",
       "      <td>0</td>\n",
       "      <td>0</td>\n",
       "      <td>2</td>\n",
       "      <td>1</td>\n",
       "      <td>0</td>\n",
       "      <td>1</td>\n",
       "      <td>0</td>\n",
       "      <td>3</td>\n",
       "      <td>1</td>\n",
       "      <td>0</td>\n",
       "    </tr>\n",
       "  </tbody>\n",
       "</table>\n",
       "<p>20337 rows × 15 columns</p>\n",
       "</div>"
      ],
      "text/plain": [
       "       Type  Gender  FurLength  agecat  breedcat  namecat  descriptcat  \\\n",
       "0         2       1          1       2         0        0            0   \n",
       "1         2       1          2       0         0        0            0   \n",
       "2         1       1          2       0         0        0            0   \n",
       "3         1       2          1       2         0        1            0   \n",
       "4         1       1          1       0         0        1            0   \n",
       "...     ...     ...        ...     ...       ...      ...          ...   \n",
       "20332     2       2          1       4         2        0            0   \n",
       "20333     2       2          1       3         0        0            1   \n",
       "20334     2       1          1       2         2        1            0   \n",
       "20335     2       1          1       2         2        1            0   \n",
       "20336     2       3          2       4         2        0            0   \n",
       "\n",
       "       colorcat  colorcat2  healthcat  statecat  MaturitySizecat  Photocat  \\\n",
       "0             1          1          0         1                0         1   \n",
       "1             1          1          0         0                1         2   \n",
       "2             1          1          1         1                1         5   \n",
       "3             1          1          1         0                1         5   \n",
       "4             0          1          0         1                1         3   \n",
       "...         ...        ...        ...       ...              ...       ...   \n",
       "20332         2          1          1         0                1         2   \n",
       "20333         2          1          0         0                1         4   \n",
       "20334         1          1          0         1                1         3   \n",
       "20335         0          0          0         0                1         5   \n",
       "20336         2          1          0         1                0         3   \n",
       "\n",
       "       quantitycat  paidcat  \n",
       "0                0        1  \n",
       "1                0        0  \n",
       "2                0        0  \n",
       "3                0        1  \n",
       "4                0        0  \n",
       "...            ...      ...  \n",
       "20332            0        0  \n",
       "20333            1        0  \n",
       "20334            0        0  \n",
       "20335            0        0  \n",
       "20336            1        0  \n",
       "\n",
       "[20337 rows x 15 columns]"
      ]
     },
     "execution_count": 94,
     "metadata": {},
     "output_type": "execute_result"
    }
   ],
   "source": []
  },
  {
   "cell_type": "markdown",
   "metadata": {
    "colab_type": "text",
    "heading_collapsed": true,
    "id": "TFEzssXw1lTd"
   },
   "source": [
    "## 2.1. Preprocessing Data for Association Rule Mining"
   ]
  },
  {
   "cell_type": "markdown",
   "metadata": {
    "colab_type": "text",
    "hidden": true,
    "id": "hOethf2J1lTe"
   },
   "source": [
    "For rule association we require a binary dataset, for our binary features we only need to change 0 and 1 to false or true, respectively, so it sits accordingly with the other features. For non-binary features, we need to create transactions and arrange them in a binary dataset."
   ]
  },
  {
   "cell_type": "markdown",
   "metadata": {
    "heading_collapsed": true,
    "hidden": true
   },
   "source": [
    "### Multi-Class Target"
   ]
  },
  {
   "cell_type": "code",
   "execution_count": 5,
   "metadata": {
    "hidden": true,
    "scrolled": true
   },
   "outputs": [
    {
     "data": {
      "text/html": [
       "<div>\n",
       "<style scoped>\n",
       "    .dataframe tbody tr th:only-of-type {\n",
       "        vertical-align: middle;\n",
       "    }\n",
       "\n",
       "    .dataframe tbody tr th {\n",
       "        vertical-align: top;\n",
       "    }\n",
       "\n",
       "    .dataframe thead th {\n",
       "        text-align: right;\n",
       "    }\n",
       "</style>\n",
       "<table border=\"1\" class=\"dataframe\">\n",
       "  <thead>\n",
       "    <tr style=\"text-align: right;\">\n",
       "      <th></th>\n",
       "      <th>Gender1</th>\n",
       "      <th>Gender2</th>\n",
       "      <th>Gender3</th>\n",
       "      <th>Photocat0</th>\n",
       "      <th>Photocat1</th>\n",
       "      <th>Photocat2</th>\n",
       "      <th>Photocat3</th>\n",
       "      <th>Photocat4</th>\n",
       "      <th>Photocat5</th>\n",
       "      <th>Target0</th>\n",
       "      <th>...</th>\n",
       "      <th>Type</th>\n",
       "      <th>FurLength</th>\n",
       "      <th>namecat</th>\n",
       "      <th>descriptcat</th>\n",
       "      <th>colorcat2</th>\n",
       "      <th>healthcat</th>\n",
       "      <th>statecat</th>\n",
       "      <th>MaturitySizecat</th>\n",
       "      <th>quantitycat</th>\n",
       "      <th>paidcat</th>\n",
       "    </tr>\n",
       "  </thead>\n",
       "  <tbody>\n",
       "    <tr>\n",
       "      <th>0</th>\n",
       "      <td>True</td>\n",
       "      <td>False</td>\n",
       "      <td>False</td>\n",
       "      <td>False</td>\n",
       "      <td>True</td>\n",
       "      <td>False</td>\n",
       "      <td>False</td>\n",
       "      <td>False</td>\n",
       "      <td>False</td>\n",
       "      <td>False</td>\n",
       "      <td>...</td>\n",
       "      <td>True</td>\n",
       "      <td>True</td>\n",
       "      <td>False</td>\n",
       "      <td>False</td>\n",
       "      <td>True</td>\n",
       "      <td>False</td>\n",
       "      <td>True</td>\n",
       "      <td>False</td>\n",
       "      <td>False</td>\n",
       "      <td>True</td>\n",
       "    </tr>\n",
       "    <tr>\n",
       "      <th>1</th>\n",
       "      <td>True</td>\n",
       "      <td>False</td>\n",
       "      <td>False</td>\n",
       "      <td>False</td>\n",
       "      <td>False</td>\n",
       "      <td>True</td>\n",
       "      <td>False</td>\n",
       "      <td>False</td>\n",
       "      <td>False</td>\n",
       "      <td>True</td>\n",
       "      <td>...</td>\n",
       "      <td>True</td>\n",
       "      <td>True</td>\n",
       "      <td>False</td>\n",
       "      <td>False</td>\n",
       "      <td>True</td>\n",
       "      <td>False</td>\n",
       "      <td>False</td>\n",
       "      <td>True</td>\n",
       "      <td>False</td>\n",
       "      <td>False</td>\n",
       "    </tr>\n",
       "    <tr>\n",
       "      <th>2</th>\n",
       "      <td>True</td>\n",
       "      <td>False</td>\n",
       "      <td>False</td>\n",
       "      <td>False</td>\n",
       "      <td>False</td>\n",
       "      <td>False</td>\n",
       "      <td>False</td>\n",
       "      <td>False</td>\n",
       "      <td>True</td>\n",
       "      <td>False</td>\n",
       "      <td>...</td>\n",
       "      <td>True</td>\n",
       "      <td>True</td>\n",
       "      <td>False</td>\n",
       "      <td>False</td>\n",
       "      <td>True</td>\n",
       "      <td>True</td>\n",
       "      <td>True</td>\n",
       "      <td>True</td>\n",
       "      <td>False</td>\n",
       "      <td>False</td>\n",
       "    </tr>\n",
       "    <tr>\n",
       "      <th>3</th>\n",
       "      <td>False</td>\n",
       "      <td>True</td>\n",
       "      <td>False</td>\n",
       "      <td>False</td>\n",
       "      <td>False</td>\n",
       "      <td>False</td>\n",
       "      <td>False</td>\n",
       "      <td>False</td>\n",
       "      <td>True</td>\n",
       "      <td>False</td>\n",
       "      <td>...</td>\n",
       "      <td>True</td>\n",
       "      <td>True</td>\n",
       "      <td>True</td>\n",
       "      <td>False</td>\n",
       "      <td>True</td>\n",
       "      <td>True</td>\n",
       "      <td>False</td>\n",
       "      <td>True</td>\n",
       "      <td>False</td>\n",
       "      <td>True</td>\n",
       "    </tr>\n",
       "    <tr>\n",
       "      <th>4</th>\n",
       "      <td>True</td>\n",
       "      <td>False</td>\n",
       "      <td>False</td>\n",
       "      <td>False</td>\n",
       "      <td>False</td>\n",
       "      <td>False</td>\n",
       "      <td>True</td>\n",
       "      <td>False</td>\n",
       "      <td>False</td>\n",
       "      <td>False</td>\n",
       "      <td>...</td>\n",
       "      <td>True</td>\n",
       "      <td>True</td>\n",
       "      <td>True</td>\n",
       "      <td>False</td>\n",
       "      <td>True</td>\n",
       "      <td>False</td>\n",
       "      <td>True</td>\n",
       "      <td>True</td>\n",
       "      <td>False</td>\n",
       "      <td>False</td>\n",
       "    </tr>\n",
       "  </tbody>\n",
       "</table>\n",
       "<p>5 rows × 35 columns</p>\n",
       "</div>"
      ],
      "text/plain": [
       "   Gender1  Gender2  Gender3  Photocat0  Photocat1  Photocat2  Photocat3  \\\n",
       "0     True    False    False      False       True      False      False   \n",
       "1     True    False    False      False      False       True      False   \n",
       "2     True    False    False      False      False      False      False   \n",
       "3    False     True    False      False      False      False      False   \n",
       "4     True    False    False      False      False      False       True   \n",
       "\n",
       "   Photocat4  Photocat5  Target0  ...  Type  FurLength  namecat  descriptcat  \\\n",
       "0      False      False    False  ...  True       True    False        False   \n",
       "1      False      False     True  ...  True       True    False        False   \n",
       "2      False       True    False  ...  True       True    False        False   \n",
       "3      False       True    False  ...  True       True     True        False   \n",
       "4      False      False    False  ...  True       True     True        False   \n",
       "\n",
       "   colorcat2  healthcat  statecat  MaturitySizecat  quantitycat  paidcat  \n",
       "0       True      False      True            False        False     True  \n",
       "1       True      False     False             True        False    False  \n",
       "2       True       True      True             True        False    False  \n",
       "3       True       True     False             True        False     True  \n",
       "4       True      False      True             True        False    False  \n",
       "\n",
       "[5 rows x 35 columns]"
      ]
     },
     "execution_count": 5,
     "metadata": {},
     "output_type": "execute_result"
    }
   ],
   "source": [
    "MT_db = create_bin(Bl,my)\n",
    "Bl = Bl.drop('Target', axis=1)\n",
    "MT_db.head()"
   ]
  },
  {
   "cell_type": "markdown",
   "metadata": {
    "heading_collapsed": true,
    "hidden": true
   },
   "source": [
    "### Binary Target"
   ]
  },
  {
   "cell_type": "code",
   "execution_count": 68,
   "metadata": {
    "hidden": true,
    "scrolled": true
   },
   "outputs": [
    {
     "data": {
      "text/html": [
       "<div>\n",
       "<style scoped>\n",
       "    .dataframe tbody tr th:only-of-type {\n",
       "        vertical-align: middle;\n",
       "    }\n",
       "\n",
       "    .dataframe tbody tr th {\n",
       "        vertical-align: top;\n",
       "    }\n",
       "\n",
       "    .dataframe thead th {\n",
       "        text-align: right;\n",
       "    }\n",
       "</style>\n",
       "<table border=\"1\" class=\"dataframe\">\n",
       "  <thead>\n",
       "    <tr style=\"text-align: right;\">\n",
       "      <th></th>\n",
       "      <th>Gender1</th>\n",
       "      <th>Gender2</th>\n",
       "      <th>Gender3</th>\n",
       "      <th>Photocat0</th>\n",
       "      <th>Photocat1</th>\n",
       "      <th>Photocat2</th>\n",
       "      <th>Photocat3</th>\n",
       "      <th>Photocat4</th>\n",
       "      <th>Photocat5</th>\n",
       "      <th>agecat0</th>\n",
       "      <th>...</th>\n",
       "      <th>breedcat</th>\n",
       "      <th>namecat</th>\n",
       "      <th>descriptcat</th>\n",
       "      <th>colorcat2</th>\n",
       "      <th>healthcat</th>\n",
       "      <th>statecat</th>\n",
       "      <th>MaturitySizecat</th>\n",
       "      <th>quantitycat</th>\n",
       "      <th>paidcat</th>\n",
       "      <th>Target</th>\n",
       "    </tr>\n",
       "  </thead>\n",
       "  <tbody>\n",
       "    <tr>\n",
       "      <th>0</th>\n",
       "      <td>True</td>\n",
       "      <td>False</td>\n",
       "      <td>False</td>\n",
       "      <td>False</td>\n",
       "      <td>True</td>\n",
       "      <td>False</td>\n",
       "      <td>False</td>\n",
       "      <td>False</td>\n",
       "      <td>False</td>\n",
       "      <td>False</td>\n",
       "      <td>...</td>\n",
       "      <td>False</td>\n",
       "      <td>False</td>\n",
       "      <td>False</td>\n",
       "      <td>True</td>\n",
       "      <td>False</td>\n",
       "      <td>True</td>\n",
       "      <td>False</td>\n",
       "      <td>False</td>\n",
       "      <td>True</td>\n",
       "      <td>True</td>\n",
       "    </tr>\n",
       "    <tr>\n",
       "      <th>1</th>\n",
       "      <td>True</td>\n",
       "      <td>False</td>\n",
       "      <td>False</td>\n",
       "      <td>False</td>\n",
       "      <td>False</td>\n",
       "      <td>True</td>\n",
       "      <td>False</td>\n",
       "      <td>False</td>\n",
       "      <td>False</td>\n",
       "      <td>True</td>\n",
       "      <td>...</td>\n",
       "      <td>False</td>\n",
       "      <td>False</td>\n",
       "      <td>False</td>\n",
       "      <td>True</td>\n",
       "      <td>False</td>\n",
       "      <td>False</td>\n",
       "      <td>True</td>\n",
       "      <td>False</td>\n",
       "      <td>False</td>\n",
       "      <td>True</td>\n",
       "    </tr>\n",
       "    <tr>\n",
       "      <th>2</th>\n",
       "      <td>True</td>\n",
       "      <td>False</td>\n",
       "      <td>False</td>\n",
       "      <td>False</td>\n",
       "      <td>False</td>\n",
       "      <td>False</td>\n",
       "      <td>False</td>\n",
       "      <td>False</td>\n",
       "      <td>True</td>\n",
       "      <td>True</td>\n",
       "      <td>...</td>\n",
       "      <td>False</td>\n",
       "      <td>False</td>\n",
       "      <td>False</td>\n",
       "      <td>True</td>\n",
       "      <td>True</td>\n",
       "      <td>True</td>\n",
       "      <td>True</td>\n",
       "      <td>False</td>\n",
       "      <td>False</td>\n",
       "      <td>True</td>\n",
       "    </tr>\n",
       "    <tr>\n",
       "      <th>3</th>\n",
       "      <td>False</td>\n",
       "      <td>True</td>\n",
       "      <td>False</td>\n",
       "      <td>False</td>\n",
       "      <td>False</td>\n",
       "      <td>False</td>\n",
       "      <td>False</td>\n",
       "      <td>False</td>\n",
       "      <td>True</td>\n",
       "      <td>False</td>\n",
       "      <td>...</td>\n",
       "      <td>False</td>\n",
       "      <td>True</td>\n",
       "      <td>False</td>\n",
       "      <td>True</td>\n",
       "      <td>True</td>\n",
       "      <td>False</td>\n",
       "      <td>True</td>\n",
       "      <td>False</td>\n",
       "      <td>True</td>\n",
       "      <td>True</td>\n",
       "    </tr>\n",
       "    <tr>\n",
       "      <th>4</th>\n",
       "      <td>True</td>\n",
       "      <td>False</td>\n",
       "      <td>False</td>\n",
       "      <td>False</td>\n",
       "      <td>False</td>\n",
       "      <td>False</td>\n",
       "      <td>True</td>\n",
       "      <td>False</td>\n",
       "      <td>False</td>\n",
       "      <td>True</td>\n",
       "      <td>...</td>\n",
       "      <td>False</td>\n",
       "      <td>True</td>\n",
       "      <td>False</td>\n",
       "      <td>True</td>\n",
       "      <td>False</td>\n",
       "      <td>True</td>\n",
       "      <td>True</td>\n",
       "      <td>False</td>\n",
       "      <td>False</td>\n",
       "      <td>True</td>\n",
       "    </tr>\n",
       "  </tbody>\n",
       "</table>\n",
       "<p>5 rows × 29 columns</p>\n",
       "</div>"
      ],
      "text/plain": [
       "   Gender1  Gender2  Gender3  Photocat0  Photocat1  Photocat2  Photocat3  \\\n",
       "0     True    False    False      False       True      False      False   \n",
       "1     True    False    False      False      False       True      False   \n",
       "2     True    False    False      False      False      False      False   \n",
       "3    False     True    False      False      False      False      False   \n",
       "4     True    False    False      False      False      False       True   \n",
       "\n",
       "   Photocat4  Photocat5  agecat0  ...  breedcat  namecat  descriptcat  \\\n",
       "0      False      False    False  ...     False    False        False   \n",
       "1      False      False     True  ...     False    False        False   \n",
       "2      False       True     True  ...     False    False        False   \n",
       "3      False       True    False  ...     False     True        False   \n",
       "4      False      False     True  ...     False     True        False   \n",
       "\n",
       "   colorcat2  healthcat  statecat  MaturitySizecat  quantitycat  paidcat  \\\n",
       "0       True      False      True            False        False     True   \n",
       "1       True      False     False             True        False    False   \n",
       "2       True       True      True             True        False    False   \n",
       "3       True       True     False             True        False     True   \n",
       "4       True      False      True             True        False    False   \n",
       "\n",
       "   Target  \n",
       "0    True  \n",
       "1    True  \n",
       "2    True  \n",
       "3    True  \n",
       "4    True  \n",
       "\n",
       "[5 rows x 29 columns]"
      ]
     },
     "execution_count": 68,
     "metadata": {},
     "output_type": "execute_result"
    }
   ],
   "source": [
    "BT_db = create_bin(Bn,by)\n",
    "Bn = Bn.drop('Target', axis=1)\n",
    "BT_db.head()"
   ]
  },
  {
   "cell_type": "markdown",
   "metadata": {
    "heading_collapsed": true
   },
   "source": [
    "## 2.2 Association Rules"
   ]
  },
  {
   "cell_type": "code",
   "execution_count": 7,
   "metadata": {
    "hidden": true
   },
   "outputs": [
    {
     "name": "stdout",
     "output_type": "stream",
     "text": [
      "Warning:  No rules found\n"
     ]
    }
   ],
   "source": [
    "# Multi-Class Target\n",
    "rules = get_rules(MT_db)\n",
    "if type(rules) is str: print('Warning: ',rules)\n",
    "else: display(rules.head())"
   ]
  },
  {
   "cell_type": "code",
   "execution_count": 8,
   "metadata": {
    "hidden": true
   },
   "outputs": [
    {
     "data": {
      "text/html": [
       "<div>\n",
       "<style scoped>\n",
       "    .dataframe tbody tr th:only-of-type {\n",
       "        vertical-align: middle;\n",
       "    }\n",
       "\n",
       "    .dataframe tbody tr th {\n",
       "        vertical-align: top;\n",
       "    }\n",
       "\n",
       "    .dataframe thead th {\n",
       "        text-align: right;\n",
       "    }\n",
       "</style>\n",
       "<table border=\"1\" class=\"dataframe\">\n",
       "  <thead>\n",
       "    <tr style=\"text-align: right;\">\n",
       "      <th></th>\n",
       "      <th>antecedents</th>\n",
       "      <th>consequents</th>\n",
       "      <th>antecedent support</th>\n",
       "      <th>consequent support</th>\n",
       "      <th>support</th>\n",
       "      <th>confidence</th>\n",
       "      <th>lift</th>\n",
       "      <th>leverage</th>\n",
       "      <th>conviction</th>\n",
       "    </tr>\n",
       "  </thead>\n",
       "  <tbody>\n",
       "    <tr>\n",
       "      <th>43</th>\n",
       "      <td>(statecat)</td>\n",
       "      <td>(Target)</td>\n",
       "      <td>0.564807</td>\n",
       "      <td>0.5</td>\n",
       "      <td>0.304417</td>\n",
       "      <td>0.538974</td>\n",
       "      <td>1.077949</td>\n",
       "      <td>0.022013</td>\n",
       "      <td>1.084538</td>\n",
       "    </tr>\n",
       "    <tr>\n",
       "      <th>134</th>\n",
       "      <td>(Type, statecat)</td>\n",
       "      <td>(Target)</td>\n",
       "      <td>0.564807</td>\n",
       "      <td>0.5</td>\n",
       "      <td>0.304417</td>\n",
       "      <td>0.538974</td>\n",
       "      <td>1.077949</td>\n",
       "      <td>0.022013</td>\n",
       "      <td>1.084538</td>\n",
       "    </tr>\n",
       "    <tr>\n",
       "      <th>161</th>\n",
       "      <td>(FurLength, statecat)</td>\n",
       "      <td>(Target)</td>\n",
       "      <td>0.564807</td>\n",
       "      <td>0.5</td>\n",
       "      <td>0.304417</td>\n",
       "      <td>0.538974</td>\n",
       "      <td>1.077949</td>\n",
       "      <td>0.022013</td>\n",
       "      <td>1.084538</td>\n",
       "    </tr>\n",
       "    <tr>\n",
       "      <th>246</th>\n",
       "      <td>(FurLength, Type, statecat)</td>\n",
       "      <td>(Target)</td>\n",
       "      <td>0.564807</td>\n",
       "      <td>0.5</td>\n",
       "      <td>0.304417</td>\n",
       "      <td>0.538974</td>\n",
       "      <td>1.077949</td>\n",
       "      <td>0.022013</td>\n",
       "      <td>1.084538</td>\n",
       "    </tr>\n",
       "  </tbody>\n",
       "</table>\n",
       "</div>"
      ],
      "text/plain": [
       "                     antecedents consequents  antecedent support  \\\n",
       "43                    (statecat)    (Target)            0.564807   \n",
       "134             (Type, statecat)    (Target)            0.564807   \n",
       "161        (FurLength, statecat)    (Target)            0.564807   \n",
       "246  (FurLength, Type, statecat)    (Target)            0.564807   \n",
       "\n",
       "     consequent support   support  confidence      lift  leverage  conviction  \n",
       "43                  0.5  0.304417    0.538974  1.077949  0.022013    1.084538  \n",
       "134                 0.5  0.304417    0.538974  1.077949  0.022013    1.084538  \n",
       "161                 0.5  0.304417    0.538974  1.077949  0.022013    1.084538  \n",
       "246                 0.5  0.304417    0.538974  1.077949  0.022013    1.084538  "
      ]
     },
     "metadata": {},
     "output_type": "display_data"
    }
   ],
   "source": [
    "#Binary Target\n",
    "rules = get_rules(BT_db)\n",
    "if type(rules) is str: print('Warning: ',rules)\n",
    "else: display(rules.head())"
   ]
  },
  {
   "cell_type": "markdown",
   "metadata": {
    "colab_type": "text",
    "heading_collapsed": true,
    "id": "k8VD8OxF1lTf"
   },
   "source": [
    "## 2.3 Association Rules - Results and Discussion "
   ]
  },
  {
   "cell_type": "markdown",
   "metadata": {
    "colab_type": "text",
    "hidden": true,
    "id": "e4dVz_151lTg"
   },
   "source": [
    "..."
   ]
  },
  {
   "cell_type": "markdown",
   "metadata": {
    "colab_type": "text",
    "heading_collapsed": true,
    "id": "wmtbcq0u1lTg"
   },
   "source": [
    "## 2.4. Preprocessing Data for Clustering"
   ]
  },
  {
   "cell_type": "markdown",
   "metadata": {
    "colab_type": "text",
    "hidden": true,
    "id": "XxP5nkGS1lTg"
   },
   "source": [
    "Under normal circonstances, since we are working with categorical data, we would need to create a binary dataset to be able to apply clustering, because categorical features might not be encoded in a way that distances can be calculated.\n",
    "\n",
    "For example color 1 is not more distant from color 3 than it is from color 2.\n",
    "\n",
    "In this case there was no need to preprocess data, since our dataset only uses binary features, or features were distance measures can be applied. (Ex:age)"
   ]
  },
  {
   "cell_type": "markdown",
   "metadata": {
    "colab_type": "text",
    "collapsed": true,
    "id": "1HY6sjHr1lTh"
   },
   "source": [
    "## 2.5. Finding Groups"
   ]
  },
  {
   "cell_type": "markdown",
   "metadata": {},
   "source": [
    "### 2.5.1 Multi-Class Target"
   ]
  },
  {
   "cell_type": "markdown",
   "metadata": {},
   "source": [
    "#### 2.5.1.1 Hierarchical Clustering"
   ]
  },
  {
   "cell_type": "markdown",
   "metadata": {
    "heading_collapsed": true
   },
   "source": [
    "##### Basic Training"
   ]
  },
  {
   "cell_type": "code",
   "execution_count": 111,
   "metadata": {
    "colab_type": "text",
    "hidden": true,
    "id": "lUhm8LFD1lTh"
   },
   "outputs": [
    {
     "name": "stdout",
     "output_type": "stream",
     "text": [
      "Score:  0.21552098157769733\n",
      "Confusion Matrix: \n",
      "       0     1    2     3     4\n",
      "0  1108   889  756   751   885\n",
      "1   789   633  867  1106  1591\n",
      "2  1040  1061  837   728   513\n",
      "3   613   981  970   905   479\n",
      "4   643   507  587   549   549\n"
     ]
    }
   ],
   "source": [
    "#Train Cluster\n",
    "cluster = AgglomerativeClustering(n_clusters=5, affinity='euclidean', compute_full_tree='auto', linkage='ward')\n",
    "cluster.fit(Bl)\n",
    "#Get score\n",
    "cm, metric = model_metrics(my, cluster)\n",
    "print('Score: ',metric)\n",
    "print('Confusion Matrix: \\n', cm)"
   ]
  },
  {
   "cell_type": "code",
   "execution_count": 113,
   "metadata": {
    "code_folding": [],
    "hidden": true
   },
   "outputs": [
    {
     "data": {
      "image/png": "[encoded data removed]",
      "text/plain": [
       "<Figure size 1296x576 with 1 Axes>"
      ]
     },
     "metadata": {
      "needs_background": "light"
     },
     "output_type": "display_data"
    }
   ],
   "source": [
    "#Plot Dendogram\n",
    "#plot the top five levels of the dendrogram\n",
    "plt.figure(figsize=(18, 8));\n",
    "plot_dendo(cluster, Bl.values, truncate_mode='level', p=5)\n",
    "plt.xlabel(\"Number of points in node (or index of point if no parenthesis).\")\n",
    "plt.show()"
   ]
  },
  {
   "cell_type": "markdown",
   "metadata": {
    "heading_collapsed": true
   },
   "source": [
    "##### Feature Selection"
   ]
  },
  {
   "cell_type": "code",
   "execution_count": 11,
   "metadata": {
    "hidden": true
   },
   "outputs": [
    {
     "name": "stdout",
     "output_type": "stream",
     "text": [
      "dropping 'Type' at index: 0\n",
      "dropping 'Gender' at index: 0\n",
      "dropping 'FurLength' at index: 0\n",
      "Remaining variables:\n",
      "Index(['agecat', 'breedcat', 'namecat', 'descriptcat', 'colorcat', 'colorcat2',\n",
      "       'healthcat', 'statecat', 'MaturitySizecat', 'Photocat', 'quantitycat',\n",
      "       'paidcat'],\n",
      "      dtype='object')\n"
     ]
    }
   ],
   "source": [
    "X = feature_selector(Bl, my)"
   ]
  },
  {
   "cell_type": "code",
   "execution_count": 12,
   "metadata": {
    "hidden": true
   },
   "outputs": [
    {
     "name": "stdout",
     "output_type": "stream",
     "text": [
      "Score:  0.2270526610466766\n",
      "Confusion Matrix: \n",
      "       0     1     2     3     4\n",
      "0  1618  1518  1374  1125   868\n",
      "1   650   587   747   923   724\n",
      "2  1078   999  1018  1077  1504\n",
      "3   385   623   613   610   225\n",
      "4   462   344   265   304   696\n"
     ]
    }
   ],
   "source": [
    "#Train Cluster\n",
    "cluster = AgglomerativeClustering(n_clusters=5, linkage='ward')\n",
    "cluster.fit(X)\n",
    "#Get score\n",
    "cm, metric = model_metrics(my, cluster)\n",
    "print('Score: ',metric)\n",
    "print('Confusion Matrix: \\n', cm)"
   ]
  },
  {
   "cell_type": "markdown",
   "metadata": {
    "heading_collapsed": true
   },
   "source": [
    "##### Linkage Selection"
   ]
  },
  {
   "cell_type": "code",
   "execution_count": 13,
   "metadata": {
    "hidden": true
   },
   "outputs": [
    {
     "name": "stdout",
     "output_type": "stream",
     "text": [
      "Linkage:  ward\n",
      "Affinity Metric:  euclidean\n",
      "Score:  0.23\n",
      "Confusion Matrix: \n",
      "       0     1     2     3     4\n",
      "0  1618  1518  1374  1125   868\n",
      "1   650   587   747   923   724\n",
      "2  1078   999  1018  1077  1504\n",
      "3   385   623   613   610   225\n",
      "4   462   344   265   304   696\n"
     ]
    }
   ],
   "source": [
    "#Find best linkage function\n",
    "cluster, score, cm = ACparm(X, my, 5)\n",
    "print('Linkage: ', cluster.linkage)\n",
    "print('Affinity Metric: ', cluster.affinity)\n",
    "print('Score: ', round(score, 2))\n",
    "print('Confusion Matrix: \\n', cm)"
   ]
  },
  {
   "cell_type": "markdown",
   "metadata": {},
   "source": [
    "#### 2.5.1.2 K_means"
   ]
  },
  {
   "cell_type": "markdown",
   "metadata": {
    "heading_collapsed": true
   },
   "source": [
    "##### Basic Training"
   ]
  },
  {
   "cell_type": "code",
   "execution_count": 14,
   "metadata": {
    "colab_type": "text",
    "hidden": true,
    "id": "lUhm8LFD1lTh"
   },
   "outputs": [
    {
     "name": "stdout",
     "output_type": "stream",
     "text": [
      "Score:  0.2270526610466766\n",
      "Confusion Matrix: \n",
      "       0     1     2     3     4\n",
      "0  1618  1518  1374  1125   868\n",
      "1   650   587   747   923   724\n",
      "2  1078   999  1018  1077  1504\n",
      "3   385   623   613   610   225\n",
      "4   462   344   265   304   696\n"
     ]
    }
   ],
   "source": [
    "kmeans = KMeans(n_clusters=5, random_state=0)\n",
    "kmeans.fit(Bl)\n",
    "#Get score\n",
    "cm, metric = model_metrics(my, cluster)\n",
    "print('Score: ',metric)\n",
    "print('Confusion Matrix: \\n', cm)"
   ]
  },
  {
   "cell_type": "markdown",
   "metadata": {
    "heading_collapsed": true
   },
   "source": [
    "##### Feature Selection"
   ]
  },
  {
   "cell_type": "code",
   "execution_count": 15,
   "metadata": {
    "hidden": true,
    "scrolled": true
   },
   "outputs": [
    {
     "name": "stdout",
     "output_type": "stream",
     "text": [
      "Score:  0.2270526610466766\n",
      "Confusion Matrix: \n",
      "       0     1     2     3     4\n",
      "0  1618  1518  1374  1125   868\n",
      "1   650   587   747   923   724\n",
      "2  1078   999  1018  1077  1504\n",
      "3   385   623   613   610   225\n",
      "4   462   344   265   304   696\n"
     ]
    }
   ],
   "source": [
    "kmeans = KMeans(n_clusters=5, random_state=0)\n",
    "kmeans.fit(X)\n",
    "#Get score\n",
    "cm, metric = model_metrics(my, cluster)\n",
    "print('Score: ',metric)\n",
    "print('Confusion Matrix: \\n', cm)"
   ]
  },
  {
   "cell_type": "markdown",
   "metadata": {
    "heading_collapsed": true
   },
   "source": [
    "### 2.5.2 Binary Target"
   ]
  },
  {
   "cell_type": "markdown",
   "metadata": {
    "heading_collapsed": true,
    "hidden": true
   },
   "source": [
    "#### 2.5.2.1 Hierarchical Clustering"
   ]
  },
  {
   "cell_type": "markdown",
   "metadata": {
    "heading_collapsed": true,
    "hidden": true
   },
   "source": [
    "##### Basic Training"
   ]
  },
  {
   "cell_type": "code",
   "execution_count": 114,
   "metadata": {
    "colab_type": "text",
    "hidden": true,
    "id": "lUhm8LFD1lTh"
   },
   "outputs": [
    {
     "name": "stdout",
     "output_type": "stream",
     "text": [
      "Score:  0.5248270376213008\n",
      "Confusion Matrix: \n",
      "       0     1\n",
      "0  3797  6126\n",
      "1  6958  4629\n"
     ]
    }
   ],
   "source": [
    "#Train Cluster\n",
    "cluster = AgglomerativeClustering(n_clusters=2, affinity='euclidean', compute_full_tree='auto', linkage='ward')\n",
    "cluster.fit(Bn)\n",
    "#Get score\n",
    "cm, metric = model_metrics(by, cluster)\n",
    "print('Score: ',metric)\n",
    "print('Confusion Matrix: \\n', cm)"
   ]
  },
  {
   "cell_type": "markdown",
   "metadata": {
    "heading_collapsed": true,
    "hidden": true
   },
   "source": [
    "##### Feature Selection"
   ]
  },
  {
   "cell_type": "code",
   "execution_count": 17,
   "metadata": {
    "hidden": true,
    "scrolled": true
   },
   "outputs": [
    {
     "name": "stdout",
     "output_type": "stream",
     "text": [
      "dropping 'Type' at index: 0\n",
      "dropping 'Gender' at index: 0\n",
      "dropping 'FurLength' at index: 0\n",
      "Remaining variables:\n",
      "Index(['agecat', 'breedcat', 'namecat', 'descriptcat', 'colorcat', 'colorcat2',\n",
      "       'healthcat', 'statecat', 'MaturitySizecat', 'Photocat', 'quantitycat',\n",
      "       'paidcat'],\n",
      "      dtype='object')\n",
      "Score:  0.5185210072083354\n",
      "Confusion Matrix: \n",
      "       0     1\n",
      "0  5839  7180\n",
      "1  4916  3575\n"
     ]
    }
   ],
   "source": [
    "X = feature_selector(Bn, by)\n",
    "#Train Cluster\n",
    "cluster = AgglomerativeClustering(n_clusters=2, linkage='ward')\n",
    "cluster.fit(X)\n",
    "#Get score\n",
    "cm, metric = model_metrics(by, cluster)\n",
    "print('Score: ',metric)\n",
    "print('Confusion Matrix: \\n', cm)"
   ]
  },
  {
   "cell_type": "markdown",
   "metadata": {
    "heading_collapsed": true,
    "hidden": true
   },
   "source": [
    "##### Linkage Selection"
   ]
  },
  {
   "cell_type": "code",
   "execution_count": 18,
   "metadata": {
    "hidden": true
   },
   "outputs": [
    {
     "name": "stdout",
     "output_type": "stream",
     "text": [
      "Linkage:  average\n",
      "Affinity Metric:  l1\n",
      "Score:  0.54\n",
      "Confusion Matrix: \n",
      "       0     1\n",
      "0  2999  5501\n",
      "1  7756  5254\n"
     ]
    }
   ],
   "source": [
    "#Find best linkage function\n",
    "cluster, score, cm = ACparm(X, by, 2)\n",
    "print('Linkage: ', cluster.linkage)\n",
    "print('Affinity Metric: ', cluster.affinity)\n",
    "print('Score: ', round(score, 2))\n",
    "print('Confusion Matrix: \\n', cm)"
   ]
  },
  {
   "cell_type": "markdown",
   "metadata": {
    "heading_collapsed": true,
    "hidden": true
   },
   "source": [
    "#### 2.5.2.2 K_means"
   ]
  },
  {
   "cell_type": "markdown",
   "metadata": {
    "hidden": true
   },
   "source": [
    "##### Basic Training"
   ]
  },
  {
   "cell_type": "code",
   "execution_count": 19,
   "metadata": {
    "colab_type": "text",
    "hidden": true,
    "id": "lUhm8LFD1lTh"
   },
   "outputs": [
    {
     "name": "stdout",
     "output_type": "stream",
     "text": [
      "Score:  0.5373139474868317\n",
      "Confusion Matrix: \n",
      "       0     1\n",
      "0  2999  5501\n",
      "1  7756  5254\n"
     ]
    }
   ],
   "source": [
    "kmeans = KMeans(n_clusters=2, random_state=0)\n",
    "kmeans.fit(Bn)\n",
    "#Get score\n",
    "cm, metric = model_metrics(by, cluster)\n",
    "print('Score: ',metric)\n",
    "print('Confusion Matrix: \\n', cm)"
   ]
  },
  {
   "cell_type": "markdown",
   "metadata": {
    "heading_collapsed": true,
    "hidden": true
   },
   "source": [
    "##### Feature Selection"
   ]
  },
  {
   "cell_type": "code",
   "execution_count": 20,
   "metadata": {
    "hidden": true,
    "scrolled": true
   },
   "outputs": [
    {
     "name": "stdout",
     "output_type": "stream",
     "text": [
      "Score:  0.5373139474868317\n",
      "Confusion Matrix: \n",
      "       0     1\n",
      "0  2999  5501\n",
      "1  7756  5254\n"
     ]
    }
   ],
   "source": [
    "kmeans = KMeans(n_clusters=2, random_state=0)\n",
    "kmeans.fit(X)\n",
    "#Get score\n",
    "cm, metric = model_metrics(by, cluster)\n",
    "print('Score: ',metric)\n",
    "print('Confusion Matrix: \\n', cm)"
   ]
  },
  {
   "cell_type": "markdown",
   "metadata": {
    "heading_collapsed": true
   },
   "source": [
    "### 2.5.3 Understanding the Clusters"
   ]
  },
  {
   "cell_type": "markdown",
   "metadata": {
    "hidden": true
   },
   "source": [
    "It was clear in the previous part that our unsupervised algorithms are not finding our targets, but those this mean they are not working? And if not what are they finding?\n",
    "\n",
    "To answer this questions we need a different approach, the first think we need is a new metric one that can evaluate the quality of our clusters without using knowledge of the ground truth (target), for this we will use the **Silhouette Coefficient**. It will use the distance between clusters to calculate cluster density and overlapping. This metric varies between [1,-1], where represents linear separable highly dense clusters, -1 incorrect clustering, and 0 overlapping clusters.\n",
    "\n",
    "Since we are no longer working with targets we will use an imbalanced data set for this part, our main objective is to assert cluster quality and to understand the properties of the defined clusters."
   ]
  },
  {
   "cell_type": "markdown",
   "metadata": {
    "heading_collapsed": true,
    "hidden": true
   },
   "source": [
    "#### 2.5.3.1 Cluster Quality"
   ]
  },
  {
   "cell_type": "markdown",
   "metadata": {
    "hidden": true
   },
   "source": [
    "Lets start by searching for the best number of clusters, with a dendogram."
   ]
  },
  {
   "cell_type": "code",
   "execution_count": 4,
   "metadata": {
    "hidden": true
   },
   "outputs": [
    {
     "data": {
      "image/png": "[encoded data removed]",
      "text/plain": [
       "<Figure size 1296x576 with 1 Axes>"
      ]
     },
     "metadata": {
      "needs_background": "light"
     },
     "output_type": "display_data"
    }
   ],
   "source": [
    "#Plot fisrt 5 levels of dendograme\n",
    "plt.figure(figsize=(18, 8));\n",
    "plt = plot_dendogram(Bin, p=5)\n",
    "plt.xlabel(\"Number of points in node (or index of point if no parenthesis).\")\n",
    "plt.show()"
   ]
  },
  {
   "cell_type": "markdown",
   "metadata": {
    "hidden": true
   },
   "source": [
    "By looking at the dendogram it's clear that we have to main cluster, by cutting at the distance 120, we could obtain possibly 4 good cluster, but probably will get a better score with just 2."
   ]
  },
  {
   "cell_type": "code",
   "execution_count": 8,
   "metadata": {
    "hidden": true
   },
   "outputs": [
    {
     "name": "stdout",
     "output_type": "stream",
     "text": [
      "Scores: \n",
      "\n",
      "2 Cluster's:  0.15\n",
      "4 Cluster's:  0.12\n"
     ]
    }
   ],
   "source": [
    "#Train Cluster\n",
    "cluster2 = AgglomerativeClustering(n_clusters=2, affinity='euclidean', linkage='ward')\n",
    "cluster2.fit(Bin)\n",
    "cluster4 = AgglomerativeClustering(n_clusters=4, affinity='euclidean', linkage='ward')\n",
    "cluster4.fit(Bin)\n",
    "c2 = round(metrics.silhouette_score(Bin, cluster2.labels_, metric='euclidean'),2)\n",
    "c4 = round(metrics.silhouette_score(Bin, cluster4.labels_, metric='euclidean'),2)\n",
    "print('Scores: \\n')\n",
    "print(\"2 Cluster's: \", c2)\n",
    "print(\"4 Cluster's: \", c4)"
   ]
  },
  {
   "cell_type": "markdown",
   "metadata": {
    "hidden": true
   },
   "source": [
    "So our theory checks out, we get a better score using 2 cluster's.\n",
    "For the K_means algorithm we will probably use the same number of cluster, but let's make sure with a grid search."
   ]
  },
  {
   "cell_type": "code",
   "execution_count": 18,
   "metadata": {
    "hidden": true
   },
   "outputs": [
    {
     "name": "stdout",
     "output_type": "stream",
     "text": [
      "Optimum number of clusters:  2\n",
      "Best Score:  0.18\n"
     ]
    }
   ],
   "source": [
    "best = 0\n",
    "for n in range(2,10):\n",
    "    kmeans = KMeans(n_clusters=n, random_state=0)\n",
    "    kmeans.fit(Bin)\n",
    "    mt = metrics.silhouette_score(Bin, kmeans.labels_, metric='euclidean')\n",
    "    if mt> best:\n",
    "        best = mt\n",
    "        n_clusters = n\n",
    "print('Optimum number of clusters: ', n_clusters)\n",
    "print('Best Score: ', round(best, 2))"
   ]
  },
  {
   "cell_type": "markdown",
   "metadata": {
    "hidden": true
   },
   "source": [
    "As we suspected the best score is obtained using 2 clusters, and the score his a little bit higher the one obtained by the hierarchical clustering algorithm.\n",
    "\n",
    "But scores are far from  1 which means and closer to zero, this means our clusters might overlap at some point. Which will make them harder to identify, and makes them not has useful."
   ]
  },
  {
   "cell_type": "markdown",
   "metadata": {
    "heading_collapsed": true,
    "hidden": true
   },
   "source": [
    "#### 2.5.3.2 Cluster Information and Importance"
   ]
  },
  {
   "cell_type": "markdown",
   "metadata": {
    "hidden": true
   },
   "source": [
    "In this part we will use the dataset balanced to the binary target since we are gonna use our binary target."
   ]
  },
  {
   "cell_type": "code",
   "execution_count": 58,
   "metadata": {
    "hidden": true
   },
   "outputs": [
    {
     "data": {
      "text/html": [
       "<div>\n",
       "<style scoped>\n",
       "    .dataframe tbody tr th:only-of-type {\n",
       "        vertical-align: middle;\n",
       "    }\n",
       "\n",
       "    .dataframe tbody tr th {\n",
       "        vertical-align: top;\n",
       "    }\n",
       "\n",
       "    .dataframe thead th {\n",
       "        text-align: right;\n",
       "    }\n",
       "</style>\n",
       "<table border=\"1\" class=\"dataframe\">\n",
       "  <thead>\n",
       "    <tr style=\"text-align: right;\">\n",
       "      <th></th>\n",
       "      <th>km</th>\n",
       "      <th>ac</th>\n",
       "    </tr>\n",
       "  </thead>\n",
       "  <tbody>\n",
       "    <tr>\n",
       "      <th>0</th>\n",
       "      <td>0</td>\n",
       "      <td>1</td>\n",
       "    </tr>\n",
       "    <tr>\n",
       "      <th>1</th>\n",
       "      <td>1</td>\n",
       "      <td>0</td>\n",
       "    </tr>\n",
       "    <tr>\n",
       "      <th>2</th>\n",
       "      <td>1</td>\n",
       "      <td>0</td>\n",
       "    </tr>\n",
       "    <tr>\n",
       "      <th>3</th>\n",
       "      <td>1</td>\n",
       "      <td>0</td>\n",
       "    </tr>\n",
       "    <tr>\n",
       "      <th>4</th>\n",
       "      <td>1</td>\n",
       "      <td>0</td>\n",
       "    </tr>\n",
       "  </tbody>\n",
       "</table>\n",
       "</div>"
      ],
      "text/plain": [
       "   km  ac\n",
       "0   0   1\n",
       "1   1   0\n",
       "2   1   0\n",
       "3   1   0\n",
       "4   1   0"
      ]
     },
     "execution_count": 58,
     "metadata": {},
     "output_type": "execute_result"
    }
   ],
   "source": [
    "# Train Clustering algorithms\n",
    "kmeans = KMeans(n_clusters=2, random_state=0)\n",
    "kmeans.fit(Bn)\n",
    "ac = AgglomerativeClustering(n_clusters=2, affinity='euclidean', linkage='ward')\n",
    "ac.fit(Bn)\n",
    "df = pd.DataFrame({'km': kmeans.labels_, 'ac': ac.labels_})\n",
    "df.head()"
   ]
  },
  {
   "cell_type": "markdown",
   "metadata": {
    "hidden": true
   },
   "source": [
    "In this part we will use previous applied methodologies to identify information that this feature might contain to explain the binary target."
   ]
  },
  {
   "cell_type": "code",
   "execution_count": 60,
   "metadata": {
    "hidden": true
   },
   "outputs": [
    {
     "name": "stdout",
     "output_type": "stream",
     "text": [
      "Scores:\n",
      "km :  639.08\n",
      "ac :  468.13\n"
     ]
    }
   ],
   "source": [
    "# cluster information\n",
    "test = SelectKBest(score_func=chi2, k='all')\n",
    "fit = test.fit(df, by)\n",
    "#Create dict with colums and score\n",
    "scores = {}\n",
    "for i in range(len(df.columns)):\n",
    "    scores.update({df.columns[i] : round(fit.scores_[i],2)} )\n",
    "#Sort and print\n",
    "print('Scores:')\n",
    "scores2 = sorted(scores, key=scores.get, reverse=True)\n",
    "for line in scores2:\n",
    "        print (line,': ',scores[line])"
   ]
  },
  {
   "cell_type": "markdown",
   "metadata": {
    "hidden": true
   },
   "source": [
    "We see that although this clustering algorithms are clearly not finding the targets the clusters they are creating have a lot of information about the target.\n",
    "\n",
    "Now let's evaluate feature importance."
   ]
  },
  {
   "cell_type": "code",
   "execution_count": 61,
   "metadata": {
    "hidden": true
   },
   "outputs": [
    {
     "name": "stdout",
     "output_type": "stream",
     "text": [
      "Feature Importance:\n",
      "km :  0.56\n",
      "ac :  0.44\n",
      "Score:  0.63\n"
     ]
    }
   ],
   "source": [
    "#Split dataset\n",
    "X_train, X_test, y_train, y_test = train_test_split(df, by, random_state=0)\n",
    "#train random forest\n",
    "clf = ExtraTreesClassifier(n_estimators=100, random_state=0)\n",
    "clf.fit(X_train, y_train)\n",
    "#print results\n",
    "print('Feature Importance:')\n",
    "for f in range(len(clf.feature_importances_)):\n",
    "    print(df.columns[f], ': ', round(clf.feature_importances_[f],2))\n",
    "print('Score: ', round(clf.score(X_test,y_test),2))"
   ]
  },
  {
   "cell_type": "code",
   "execution_count": 62,
   "metadata": {
    "hidden": true
   },
   "outputs": [
    {
     "name": "stdout",
     "output_type": "stream",
     "text": [
      "              precision    recall  f1-score   support\n",
      "\n",
      "           0       0.63      0.64      0.63      2669\n",
      "           1       0.64      0.62      0.63      2709\n",
      "\n",
      "    accuracy                           0.63      5378\n",
      "   macro avg       0.63      0.63      0.63      5378\n",
      "weighted avg       0.63      0.63      0.63      5378\n",
      "\n"
     ]
    }
   ],
   "source": [
    "y_pred = clf.predict(X_test)\n",
    "print(metrics.classification_report(y_test, y_pred))"
   ]
  },
  {
   "cell_type": "code",
   "execution_count": 29,
   "metadata": {
    "hidden": true
   },
   "outputs": [
    {
     "data": {
      "text/plain": [
       "{'m': 385.03, 'c': 271.23}"
      ]
     },
     "execution_count": 29,
     "metadata": {},
     "output_type": "execute_result"
    }
   ],
   "source": [
    "scores"
   ]
  },
  {
   "cell_type": "markdown",
   "metadata": {
    "hidden": true
   },
   "source": [
    "Using only this clusters we are able to classify our target with 63% accuracy, is not great but it is a bit more them changes which means that our clusters have a information about the target."
   ]
  },
  {
   "cell_type": "code",
   "execution_count": 67,
   "metadata": {
    "hidden": true
   },
   "outputs": [
    {
     "name": "stdout",
     "output_type": "stream",
     "text": [
      "Index(['Gender', 'agecat', 'colorcat', 'Photocat'], dtype='object')\n"
     ]
    }
   ],
   "source": [
    "X_train, X_test, y_train, y_test = train_test_split(pd.concat([df, Bn], axis=1, sort=False), by, random_state=0)\n",
    "clf = ExtraTreesClassifier(n_estimators=100, random_state=0)\n",
    "clf.fit(X_train, y_train)\n",
    "y_pred = clf.predict(X_test)\n",
    "sel = SelectFromModel(clf)\n",
    "sel.fit(X_train, y_train)\n",
    "selected_feat= X_train.columns[(sel.get_support())]\n",
    "print(selected_feat)"
   ]
  },
  {
   "cell_type": "markdown",
   "metadata": {
    "hidden": true
   },
   "source": [
    "We see that our clusters are not informative enough to retained for our best classifying model, which is normal since this model is very parcial to cardinality, and our clusters produce binary features. The features are also probably pretty correlate with the features retained."
   ]
  },
  {
   "cell_type": "markdown",
   "metadata": {
    "heading_collapsed": true,
    "hidden": true
   },
   "source": [
    "#### 2.5.3.3 Cluster Rules"
   ]
  },
  {
   "cell_type": "code",
   "execution_count": 72,
   "metadata": {
    "hidden": true
   },
   "outputs": [
    {
     "data": {
      "text/html": [
       "<div>\n",
       "<style scoped>\n",
       "    .dataframe tbody tr th:only-of-type {\n",
       "        vertical-align: middle;\n",
       "    }\n",
       "\n",
       "    .dataframe tbody tr th {\n",
       "        vertical-align: top;\n",
       "    }\n",
       "\n",
       "    .dataframe thead th {\n",
       "        text-align: right;\n",
       "    }\n",
       "</style>\n",
       "<table border=\"1\" class=\"dataframe\">\n",
       "  <thead>\n",
       "    <tr style=\"text-align: right;\">\n",
       "      <th></th>\n",
       "      <th>km</th>\n",
       "      <th>ac</th>\n",
       "      <th>Gender1</th>\n",
       "      <th>Gender2</th>\n",
       "      <th>Gender3</th>\n",
       "      <th>Photocat0</th>\n",
       "      <th>Photocat1</th>\n",
       "      <th>Photocat2</th>\n",
       "      <th>Photocat3</th>\n",
       "      <th>Photocat4</th>\n",
       "      <th>...</th>\n",
       "      <th>FurLength</th>\n",
       "      <th>breedcat</th>\n",
       "      <th>namecat</th>\n",
       "      <th>descriptcat</th>\n",
       "      <th>colorcat2</th>\n",
       "      <th>healthcat</th>\n",
       "      <th>statecat</th>\n",
       "      <th>MaturitySizecat</th>\n",
       "      <th>quantitycat</th>\n",
       "      <th>paidcat</th>\n",
       "    </tr>\n",
       "  </thead>\n",
       "  <tbody>\n",
       "    <tr>\n",
       "      <th>0</th>\n",
       "      <td>0</td>\n",
       "      <td>1</td>\n",
       "      <td>True</td>\n",
       "      <td>False</td>\n",
       "      <td>False</td>\n",
       "      <td>False</td>\n",
       "      <td>True</td>\n",
       "      <td>False</td>\n",
       "      <td>False</td>\n",
       "      <td>False</td>\n",
       "      <td>...</td>\n",
       "      <td>True</td>\n",
       "      <td>False</td>\n",
       "      <td>False</td>\n",
       "      <td>False</td>\n",
       "      <td>True</td>\n",
       "      <td>False</td>\n",
       "      <td>True</td>\n",
       "      <td>False</td>\n",
       "      <td>False</td>\n",
       "      <td>True</td>\n",
       "    </tr>\n",
       "    <tr>\n",
       "      <th>1</th>\n",
       "      <td>1</td>\n",
       "      <td>0</td>\n",
       "      <td>True</td>\n",
       "      <td>False</td>\n",
       "      <td>False</td>\n",
       "      <td>False</td>\n",
       "      <td>False</td>\n",
       "      <td>True</td>\n",
       "      <td>False</td>\n",
       "      <td>False</td>\n",
       "      <td>...</td>\n",
       "      <td>True</td>\n",
       "      <td>False</td>\n",
       "      <td>False</td>\n",
       "      <td>False</td>\n",
       "      <td>True</td>\n",
       "      <td>False</td>\n",
       "      <td>False</td>\n",
       "      <td>True</td>\n",
       "      <td>False</td>\n",
       "      <td>False</td>\n",
       "    </tr>\n",
       "    <tr>\n",
       "      <th>2</th>\n",
       "      <td>1</td>\n",
       "      <td>0</td>\n",
       "      <td>True</td>\n",
       "      <td>False</td>\n",
       "      <td>False</td>\n",
       "      <td>False</td>\n",
       "      <td>False</td>\n",
       "      <td>False</td>\n",
       "      <td>False</td>\n",
       "      <td>False</td>\n",
       "      <td>...</td>\n",
       "      <td>True</td>\n",
       "      <td>False</td>\n",
       "      <td>False</td>\n",
       "      <td>False</td>\n",
       "      <td>True</td>\n",
       "      <td>True</td>\n",
       "      <td>True</td>\n",
       "      <td>True</td>\n",
       "      <td>False</td>\n",
       "      <td>False</td>\n",
       "    </tr>\n",
       "    <tr>\n",
       "      <th>3</th>\n",
       "      <td>1</td>\n",
       "      <td>0</td>\n",
       "      <td>False</td>\n",
       "      <td>True</td>\n",
       "      <td>False</td>\n",
       "      <td>False</td>\n",
       "      <td>False</td>\n",
       "      <td>False</td>\n",
       "      <td>False</td>\n",
       "      <td>False</td>\n",
       "      <td>...</td>\n",
       "      <td>True</td>\n",
       "      <td>False</td>\n",
       "      <td>True</td>\n",
       "      <td>False</td>\n",
       "      <td>True</td>\n",
       "      <td>True</td>\n",
       "      <td>False</td>\n",
       "      <td>True</td>\n",
       "      <td>False</td>\n",
       "      <td>True</td>\n",
       "    </tr>\n",
       "    <tr>\n",
       "      <th>4</th>\n",
       "      <td>1</td>\n",
       "      <td>0</td>\n",
       "      <td>True</td>\n",
       "      <td>False</td>\n",
       "      <td>False</td>\n",
       "      <td>False</td>\n",
       "      <td>False</td>\n",
       "      <td>False</td>\n",
       "      <td>True</td>\n",
       "      <td>False</td>\n",
       "      <td>...</td>\n",
       "      <td>True</td>\n",
       "      <td>False</td>\n",
       "      <td>True</td>\n",
       "      <td>False</td>\n",
       "      <td>True</td>\n",
       "      <td>False</td>\n",
       "      <td>True</td>\n",
       "      <td>True</td>\n",
       "      <td>False</td>\n",
       "      <td>False</td>\n",
       "    </tr>\n",
       "  </tbody>\n",
       "</table>\n",
       "<p>5 rows × 30 columns</p>\n",
       "</div>"
      ],
      "text/plain": [
       "   km  ac  Gender1  Gender2  Gender3  Photocat0  Photocat1  Photocat2  \\\n",
       "0   0   1     True    False    False      False       True      False   \n",
       "1   1   0     True    False    False      False      False       True   \n",
       "2   1   0     True    False    False      False      False      False   \n",
       "3   1   0    False     True    False      False      False      False   \n",
       "4   1   0     True    False    False      False      False      False   \n",
       "\n",
       "   Photocat3  Photocat4  ...  FurLength  breedcat  namecat  descriptcat  \\\n",
       "0      False      False  ...       True     False    False        False   \n",
       "1      False      False  ...       True     False    False        False   \n",
       "2      False      False  ...       True     False    False        False   \n",
       "3      False      False  ...       True     False     True        False   \n",
       "4       True      False  ...       True     False     True        False   \n",
       "\n",
       "   colorcat2  healthcat  statecat  MaturitySizecat  quantitycat  paidcat  \n",
       "0       True      False      True            False        False     True  \n",
       "1       True      False     False             True        False    False  \n",
       "2       True       True      True             True        False    False  \n",
       "3       True       True     False             True        False     True  \n",
       "4       True      False      True             True        False    False  \n",
       "\n",
       "[5 rows x 30 columns]"
      ]
     },
     "execution_count": 72,
     "metadata": {},
     "output_type": "execute_result"
    }
   ],
   "source": [
    "#Create binary database\n",
    "bd = pd.concat([df, BT_db], axis=1, sort=False)\n",
    "bd = bd.drop('Target', axis=1)\n",
    "bd.head()"
   ]
  },
  {
   "cell_type": "code",
   "execution_count": 87,
   "metadata": {
    "hidden": true
   },
   "outputs": [
    {
     "data": {
      "text/html": [
       "<div>\n",
       "<style scoped>\n",
       "    .dataframe tbody tr th:only-of-type {\n",
       "        vertical-align: middle;\n",
       "    }\n",
       "\n",
       "    .dataframe tbody tr th {\n",
       "        vertical-align: top;\n",
       "    }\n",
       "\n",
       "    .dataframe thead th {\n",
       "        text-align: right;\n",
       "    }\n",
       "</style>\n",
       "<table border=\"1\" class=\"dataframe\">\n",
       "  <thead>\n",
       "    <tr style=\"text-align: right;\">\n",
       "      <th></th>\n",
       "      <th>antecedents</th>\n",
       "      <th>consequents</th>\n",
       "      <th>antecedent support</th>\n",
       "      <th>consequent support</th>\n",
       "      <th>support</th>\n",
       "      <th>confidence</th>\n",
       "      <th>lift</th>\n",
       "      <th>leverage</th>\n",
       "      <th>conviction</th>\n",
       "    </tr>\n",
       "  </thead>\n",
       "  <tbody>\n",
       "    <tr>\n",
       "      <th>10</th>\n",
       "      <td>(ac)</td>\n",
       "      <td>(colorcat2)</td>\n",
       "      <td>0.53868</td>\n",
       "      <td>0.755974</td>\n",
       "      <td>0.382566</td>\n",
       "      <td>0.710192</td>\n",
       "      <td>0.939440</td>\n",
       "      <td>-0.024662</td>\n",
       "      <td>0.842028</td>\n",
       "    </tr>\n",
       "    <tr>\n",
       "      <th>12</th>\n",
       "      <td>(ac)</td>\n",
       "      <td>(healthcat)</td>\n",
       "      <td>0.53868</td>\n",
       "      <td>0.395630</td>\n",
       "      <td>0.300325</td>\n",
       "      <td>0.557521</td>\n",
       "      <td>1.409199</td>\n",
       "      <td>0.087208</td>\n",
       "      <td>1.365874</td>\n",
       "    </tr>\n",
       "  </tbody>\n",
       "</table>\n",
       "</div>"
      ],
      "text/plain": [
       "   antecedents  consequents  antecedent support  consequent support   support  \\\n",
       "10        (ac)  (colorcat2)             0.53868            0.755974  0.382566   \n",
       "12        (ac)  (healthcat)             0.53868            0.395630  0.300325   \n",
       "\n",
       "    confidence      lift  leverage  conviction  \n",
       "10    0.710192  0.939440 -0.024662    0.842028  \n",
       "12    0.557521  1.409199  0.087208    1.365874  "
      ]
     },
     "execution_count": 87,
     "metadata": {},
     "output_type": "execute_result"
    }
   ],
   "source": [
    "#Compute Frequent items\n",
    "frequent_itemsets = apriori(bd, min_support=0.3, use_colnames=True)\n",
    "# Compute association rules\n",
    "rules = association_rules(frequent_itemsets, metric=\"confidence\", min_threshold=0.5)\n",
    "# get all rules for km and ac clusters with significant lifts\n",
    "Brules = []\n",
    "for i, rule in enumerate(rules.antecedents):\n",
    "    if ('km' in str(rule) or 'ac' in str(rule)) and (rules.lift.values[i] < 0.99 \n",
    "    or rules.lift.values[i] > 1.1) and len(rule) == 1 and len(rules.consequents.values[i]) == 1:\n",
    "        Brules.append(i)\n",
    "rules = rules.iloc[Brules]\n",
    "rules"
   ]
  },
  {
   "cell_type": "markdown",
   "metadata": {
    "hidden": true
   },
   "source": [
    "From this analysis we get very important rules, we now know that when the Hierarchical Clustering algorithm, classifies a pet in cluster 0 it's likely that it doesn't has black or brown color. From the understanding data task we know that this means he his more likely to be adopted.\n",
    "\n",
    "When it classifies a pet in cluster 1 is likely that the `healthcat` feature his 1, since this feature his it self a cluster we cannot be for sure it's meaning, but when a pet has this value he is more likely to not be adopted (which probably means his less healthy from the thailandese people point of view).\n",
    "\n",
    "So we can conclude that when a pet his classified in cluster 0 he his more likely to be adopted them when his classified in cluster one. This can easily be proven graphically. "
   ]
  },
  {
   "cell_type": "code",
   "execution_count": 109,
   "metadata": {
    "hidden": true
   },
   "outputs": [
    {
     "data": {
      "text/plain": [
       "<Figure size 1296x576 with 0 Axes>"
      ]
     },
     "metadata": {},
     "output_type": "display_data"
    },
    {
     "data": {
      "image/png": "[encoded data removed]",
      "text/plain": [
       "<Figure size 1296x576 with 1 Axes>"
      ]
     },
     "metadata": {
      "needs_background": "light"
     },
     "output_type": "display_data"
    }
   ],
   "source": [
    "plt.figure(figsize=(18, 8));\n",
    "df['AdoptionSpeed'] = by\n",
    "make_count_plot(df=df, main_count = main_count, x='ac', title='ac')"
   ]
  },
  {
   "cell_type": "markdown",
   "metadata": {
    "hidden": true
   },
   "source": [
    "Have in consideration that the graphic says adoption speed since it's based on a previously implemented function, but **blue stands for not adopted and orange for adopted**."
   ]
  },
  {
   "cell_type": "code",
   "execution_count": 110,
   "metadata": {
    "hidden": true
   },
   "outputs": [
    {
     "data": {
      "text/plain": [
       "<Figure size 1296x576 with 0 Axes>"
      ]
     },
     "metadata": {},
     "output_type": "display_data"
    },
    {
     "data": {
      "image/png": "[encoded data removed]",
      "text/plain": [
       "<Figure size 1296x576 with 1 Axes>"
      ]
     },
     "metadata": {
      "needs_background": "light"
     },
     "output_type": "display_data"
    }
   ],
   "source": [
    "plt.figure(figsize=(18, 8));\n",
    "make_count_plot(df=df, main_count = main_count, x='km', title='ac')"
   ]
  },
  {
   "cell_type": "markdown",
   "metadata": {
    "hidden": true
   },
   "source": [
    "Has we can see above for the clusters produced by the `Kmeans` Algorithm, its the reverse, pets on cluster 0 are more likely to get adopted that pets on cluster 1."
   ]
  },
  {
   "cell_type": "markdown",
   "metadata": {
    "colab_type": "text",
    "id": "3aZB8XSM1lTh"
   },
   "source": [
    "## 2.6. Clustering - Results and Discussion "
   ]
  },
  {
   "cell_type": "markdown",
   "metadata": {
    "colab_type": "text",
    "id": "vJAiFeft1lTh"
   },
   "source": [
    "..."
   ]
  }
 ],
 "metadata": {
  "kernelspec": {
   "display_name": "Python 3",
   "language": "python",
   "name": "python3"
  },
  "language_info": {
   "codemirror_mode": {
    "name": "ipython",
    "version": 3
   },
   "file_extension": ".py",
   "mimetype": "text/x-python",
   "name": "python",
   "nbconvert_exporter": "python",
   "pygments_lexer": "ipython3",
   "version": "3.7.4"
  },
  "varInspector": {
   "cols": {
    "lenName": 16,
    "lenType": 16,
    "lenVar": 40
   },
   "kernels_config": {
    "python": {
     "delete_cmd_postfix": "",
     "delete_cmd_prefix": "del ",
     "library": "var_list.py",
     "varRefreshCmd": "print(var_dic_list())"
    },
    "r": {
     "delete_cmd_postfix": ") ",
     "delete_cmd_prefix": "rm(",
     "library": "var_list.r",
     "varRefreshCmd": "cat(var_dic_list()) "
    }
   },
   "types_to_exclude": [
    "module",
    "function",
    "builtin_function_or_method",
    "instance",
    "_Feature"
   ],
   "window_display": false
  }
 },
 "nbformat": 4,
 "nbformat_minor": 2
}
