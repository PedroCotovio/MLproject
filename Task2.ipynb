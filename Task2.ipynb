{
 "cells": [
  {
   "cell_type": "markdown",
   "metadata": {},
   "source": [
    "# Task 2 (Unsupervised Learning) - Charactering Adopted Pets and Adoption Speed"
   ]
  },
  {
   "cell_type": "markdown",
   "metadata": {
    "colab_type": "text",
    "id": "n4U-4wbq1lTd"
   },
   "source": [
    "In this task you should **use unsupervised learning algorithms and try to characterize pets that were actually adopted and their adoption speed**. You can use:\n",
    "* **Association rule mining** to find **associations between the features and the target Adoption/AdoptionSpeed**.\n",
    "* **Clustering algorithms to find similar groups of pets**. Is it possible to find groups of pets with the same/similar adoption speed.\n",
    "* **Be creative and define your own unsupervised analysis!** What would it be interesting to find out ?"
   ]
  },
  {
   "cell_type": "markdown",
   "metadata": {
    "heading_collapsed": true
   },
   "source": [
    "## Loading Datasets"
   ]
  },
  {
   "cell_type": "code",
   "execution_count": 3,
   "metadata": {
    "hidden": true,
    "init_cell": true
   },
   "outputs": [],
   "source": [
    "# Load data\n",
    "import pandas as pd\n",
    "\n",
    "Bl = pd.read_csv(\"Balanced_Dataset.csv\", index_col=0)\n",
    "Bn = pd.read_csv('Binary_Dataset.csv', index_col=0)\n",
    "Bin = pd.read_csv('Binary_Imbalanced_Dataset.csv', index_col=0)\n",
    "#Create Multy class target\n",
    "my = Bl['Target'].values\n",
    "Bl = Bl.drop(['Target'], axis=1)\n",
    "#Create Binary Target\n",
    "by = Bn['Target'].values\n",
    "Bn = Bn.drop(['Target'], axis=1)\n",
    "#Create Binary Imbalanced Target\n",
    "iby = Bin['Target'].values\n",
    "Bin = Bin.drop(['Target'], axis=1)"
   ]
  },
  {
   "cell_type": "markdown",
   "metadata": {
    "heading_collapsed": true
   },
   "source": [
    "## Importing Modules and Functions"
   ]
  },
  {
   "cell_type": "code",
   "execution_count": 4,
   "metadata": {
    "hidden": true,
    "init_cell": true
   },
   "outputs": [],
   "source": [
    "##Import all Modules\n",
    "import sys\n",
    "import numpy as np\n",
    "import math\n",
    "import seaborn as sns\n",
    "import matplotlib.pyplot as plt\n",
    "from sklearn.cluster import AgglomerativeClustering, KMeans\n",
    "from sklearn import metrics\n",
    "from IPython.display import display\n",
    "## Import Functions\n",
    "from Task2_functions import *\n",
    "from Task1_functions import feature_selector"
   ]
  },
  {
   "cell_type": "markdown",
   "metadata": {
    "colab_type": "text",
    "heading_collapsed": true,
    "id": "TFEzssXw1lTd"
   },
   "source": [
    "## 2.1. Preprocessing Data for Association Rule Mining"
   ]
  },
  {
   "cell_type": "markdown",
   "metadata": {
    "colab_type": "text",
    "hidden": true,
    "id": "hOethf2J1lTe"
   },
   "source": [
    "For rule association we require a binary dataset, for our binary features we only need to change 0 and 1 to false or true, respectively, so it sits accordingly with the other features. For non-binary features, we need to create transactions and arrange them in a binary dataset."
   ]
  },
  {
   "cell_type": "markdown",
   "metadata": {
    "heading_collapsed": true,
    "hidden": true
   },
   "source": [
    "### Multi-Class Target"
   ]
  },
  {
   "cell_type": "code",
   "execution_count": 5,
   "metadata": {
    "hidden": true,
    "scrolled": true
   },
   "outputs": [
    {
     "data": {
      "text/html": [
       "<div>\n",
       "<style scoped>\n",
       "    .dataframe tbody tr th:only-of-type {\n",
       "        vertical-align: middle;\n",
       "    }\n",
       "\n",
       "    .dataframe tbody tr th {\n",
       "        vertical-align: top;\n",
       "    }\n",
       "\n",
       "    .dataframe thead th {\n",
       "        text-align: right;\n",
       "    }\n",
       "</style>\n",
       "<table border=\"1\" class=\"dataframe\">\n",
       "  <thead>\n",
       "    <tr style=\"text-align: right;\">\n",
       "      <th></th>\n",
       "      <th>Gender1</th>\n",
       "      <th>Gender2</th>\n",
       "      <th>Gender3</th>\n",
       "      <th>Photocat0</th>\n",
       "      <th>Photocat1</th>\n",
       "      <th>Photocat2</th>\n",
       "      <th>Photocat3</th>\n",
       "      <th>Photocat4</th>\n",
       "      <th>Photocat5</th>\n",
       "      <th>Target0</th>\n",
       "      <th>...</th>\n",
       "      <th>Type</th>\n",
       "      <th>FurLength</th>\n",
       "      <th>namecat</th>\n",
       "      <th>descriptcat</th>\n",
       "      <th>colorcat2</th>\n",
       "      <th>healthcat</th>\n",
       "      <th>statecat</th>\n",
       "      <th>MaturitySizecat</th>\n",
       "      <th>quantitycat</th>\n",
       "      <th>paidcat</th>\n",
       "    </tr>\n",
       "  </thead>\n",
       "  <tbody>\n",
       "    <tr>\n",
       "      <th>0</th>\n",
       "      <td>True</td>\n",
       "      <td>False</td>\n",
       "      <td>False</td>\n",
       "      <td>False</td>\n",
       "      <td>True</td>\n",
       "      <td>False</td>\n",
       "      <td>False</td>\n",
       "      <td>False</td>\n",
       "      <td>False</td>\n",
       "      <td>False</td>\n",
       "      <td>...</td>\n",
       "      <td>True</td>\n",
       "      <td>True</td>\n",
       "      <td>False</td>\n",
       "      <td>False</td>\n",
       "      <td>True</td>\n",
       "      <td>False</td>\n",
       "      <td>True</td>\n",
       "      <td>False</td>\n",
       "      <td>False</td>\n",
       "      <td>True</td>\n",
       "    </tr>\n",
       "    <tr>\n",
       "      <th>1</th>\n",
       "      <td>True</td>\n",
       "      <td>False</td>\n",
       "      <td>False</td>\n",
       "      <td>False</td>\n",
       "      <td>False</td>\n",
       "      <td>True</td>\n",
       "      <td>False</td>\n",
       "      <td>False</td>\n",
       "      <td>False</td>\n",
       "      <td>True</td>\n",
       "      <td>...</td>\n",
       "      <td>True</td>\n",
       "      <td>True</td>\n",
       "      <td>False</td>\n",
       "      <td>False</td>\n",
       "      <td>True</td>\n",
       "      <td>False</td>\n",
       "      <td>False</td>\n",
       "      <td>True</td>\n",
       "      <td>False</td>\n",
       "      <td>False</td>\n",
       "    </tr>\n",
       "    <tr>\n",
       "      <th>2</th>\n",
       "      <td>True</td>\n",
       "      <td>False</td>\n",
       "      <td>False</td>\n",
       "      <td>False</td>\n",
       "      <td>False</td>\n",
       "      <td>False</td>\n",
       "      <td>False</td>\n",
       "      <td>False</td>\n",
       "      <td>True</td>\n",
       "      <td>False</td>\n",
       "      <td>...</td>\n",
       "      <td>True</td>\n",
       "      <td>True</td>\n",
       "      <td>False</td>\n",
       "      <td>False</td>\n",
       "      <td>True</td>\n",
       "      <td>True</td>\n",
       "      <td>True</td>\n",
       "      <td>True</td>\n",
       "      <td>False</td>\n",
       "      <td>False</td>\n",
       "    </tr>\n",
       "    <tr>\n",
       "      <th>3</th>\n",
       "      <td>False</td>\n",
       "      <td>True</td>\n",
       "      <td>False</td>\n",
       "      <td>False</td>\n",
       "      <td>False</td>\n",
       "      <td>False</td>\n",
       "      <td>False</td>\n",
       "      <td>False</td>\n",
       "      <td>True</td>\n",
       "      <td>False</td>\n",
       "      <td>...</td>\n",
       "      <td>True</td>\n",
       "      <td>True</td>\n",
       "      <td>True</td>\n",
       "      <td>False</td>\n",
       "      <td>True</td>\n",
       "      <td>True</td>\n",
       "      <td>False</td>\n",
       "      <td>True</td>\n",
       "      <td>False</td>\n",
       "      <td>True</td>\n",
       "    </tr>\n",
       "    <tr>\n",
       "      <th>4</th>\n",
       "      <td>True</td>\n",
       "      <td>False</td>\n",
       "      <td>False</td>\n",
       "      <td>False</td>\n",
       "      <td>False</td>\n",
       "      <td>False</td>\n",
       "      <td>True</td>\n",
       "      <td>False</td>\n",
       "      <td>False</td>\n",
       "      <td>False</td>\n",
       "      <td>...</td>\n",
       "      <td>True</td>\n",
       "      <td>True</td>\n",
       "      <td>True</td>\n",
       "      <td>False</td>\n",
       "      <td>True</td>\n",
       "      <td>False</td>\n",
       "      <td>True</td>\n",
       "      <td>True</td>\n",
       "      <td>False</td>\n",
       "      <td>False</td>\n",
       "    </tr>\n",
       "  </tbody>\n",
       "</table>\n",
       "<p>5 rows × 35 columns</p>\n",
       "</div>"
      ],
      "text/plain": [
       "   Gender1  Gender2  Gender3  Photocat0  Photocat1  Photocat2  Photocat3  \\\n",
       "0     True    False    False      False       True      False      False   \n",
       "1     True    False    False      False      False       True      False   \n",
       "2     True    False    False      False      False      False      False   \n",
       "3    False     True    False      False      False      False      False   \n",
       "4     True    False    False      False      False      False       True   \n",
       "\n",
       "   Photocat4  Photocat5  Target0  ...  Type  FurLength  namecat  descriptcat  \\\n",
       "0      False      False    False  ...  True       True    False        False   \n",
       "1      False      False     True  ...  True       True    False        False   \n",
       "2      False       True    False  ...  True       True    False        False   \n",
       "3      False       True    False  ...  True       True     True        False   \n",
       "4      False      False    False  ...  True       True     True        False   \n",
       "\n",
       "   colorcat2  healthcat  statecat  MaturitySizecat  quantitycat  paidcat  \n",
       "0       True      False      True            False        False     True  \n",
       "1       True      False     False             True        False    False  \n",
       "2       True       True      True             True        False    False  \n",
       "3       True       True     False             True        False     True  \n",
       "4       True      False      True             True        False    False  \n",
       "\n",
       "[5 rows x 35 columns]"
      ]
     },
     "execution_count": 5,
     "metadata": {},
     "output_type": "execute_result"
    }
   ],
   "source": [
    "MT_db = create_bin(Bl,my)\n",
    "Bl = Bl.drop('Target', axis=1)\n",
    "MT_db.head()"
   ]
  },
  {
   "cell_type": "markdown",
   "metadata": {
    "heading_collapsed": true,
    "hidden": true
   },
   "source": [
    "### Binary Target"
   ]
  },
  {
   "cell_type": "code",
   "execution_count": 6,
   "metadata": {
    "hidden": true,
    "scrolled": true
   },
   "outputs": [
    {
     "data": {
      "text/html": [
       "<div>\n",
       "<style scoped>\n",
       "    .dataframe tbody tr th:only-of-type {\n",
       "        vertical-align: middle;\n",
       "    }\n",
       "\n",
       "    .dataframe tbody tr th {\n",
       "        vertical-align: top;\n",
       "    }\n",
       "\n",
       "    .dataframe thead th {\n",
       "        text-align: right;\n",
       "    }\n",
       "</style>\n",
       "<table border=\"1\" class=\"dataframe\">\n",
       "  <thead>\n",
       "    <tr style=\"text-align: right;\">\n",
       "      <th></th>\n",
       "      <th>Gender1</th>\n",
       "      <th>Gender2</th>\n",
       "      <th>Gender3</th>\n",
       "      <th>Photocat0</th>\n",
       "      <th>Photocat1</th>\n",
       "      <th>Photocat2</th>\n",
       "      <th>Photocat3</th>\n",
       "      <th>Photocat4</th>\n",
       "      <th>Photocat5</th>\n",
       "      <th>agecat0</th>\n",
       "      <th>...</th>\n",
       "      <th>breedcat</th>\n",
       "      <th>namecat</th>\n",
       "      <th>descriptcat</th>\n",
       "      <th>colorcat2</th>\n",
       "      <th>healthcat</th>\n",
       "      <th>statecat</th>\n",
       "      <th>MaturitySizecat</th>\n",
       "      <th>quantitycat</th>\n",
       "      <th>paidcat</th>\n",
       "      <th>Target</th>\n",
       "    </tr>\n",
       "  </thead>\n",
       "  <tbody>\n",
       "    <tr>\n",
       "      <th>0</th>\n",
       "      <td>True</td>\n",
       "      <td>False</td>\n",
       "      <td>False</td>\n",
       "      <td>False</td>\n",
       "      <td>True</td>\n",
       "      <td>False</td>\n",
       "      <td>False</td>\n",
       "      <td>False</td>\n",
       "      <td>False</td>\n",
       "      <td>False</td>\n",
       "      <td>...</td>\n",
       "      <td>False</td>\n",
       "      <td>False</td>\n",
       "      <td>False</td>\n",
       "      <td>True</td>\n",
       "      <td>False</td>\n",
       "      <td>True</td>\n",
       "      <td>False</td>\n",
       "      <td>False</td>\n",
       "      <td>True</td>\n",
       "      <td>True</td>\n",
       "    </tr>\n",
       "    <tr>\n",
       "      <th>1</th>\n",
       "      <td>True</td>\n",
       "      <td>False</td>\n",
       "      <td>False</td>\n",
       "      <td>False</td>\n",
       "      <td>False</td>\n",
       "      <td>True</td>\n",
       "      <td>False</td>\n",
       "      <td>False</td>\n",
       "      <td>False</td>\n",
       "      <td>True</td>\n",
       "      <td>...</td>\n",
       "      <td>False</td>\n",
       "      <td>False</td>\n",
       "      <td>False</td>\n",
       "      <td>True</td>\n",
       "      <td>False</td>\n",
       "      <td>False</td>\n",
       "      <td>True</td>\n",
       "      <td>False</td>\n",
       "      <td>False</td>\n",
       "      <td>True</td>\n",
       "    </tr>\n",
       "    <tr>\n",
       "      <th>2</th>\n",
       "      <td>True</td>\n",
       "      <td>False</td>\n",
       "      <td>False</td>\n",
       "      <td>False</td>\n",
       "      <td>False</td>\n",
       "      <td>False</td>\n",
       "      <td>False</td>\n",
       "      <td>False</td>\n",
       "      <td>True</td>\n",
       "      <td>True</td>\n",
       "      <td>...</td>\n",
       "      <td>False</td>\n",
       "      <td>False</td>\n",
       "      <td>False</td>\n",
       "      <td>True</td>\n",
       "      <td>True</td>\n",
       "      <td>True</td>\n",
       "      <td>True</td>\n",
       "      <td>False</td>\n",
       "      <td>False</td>\n",
       "      <td>True</td>\n",
       "    </tr>\n",
       "    <tr>\n",
       "      <th>3</th>\n",
       "      <td>False</td>\n",
       "      <td>True</td>\n",
       "      <td>False</td>\n",
       "      <td>False</td>\n",
       "      <td>False</td>\n",
       "      <td>False</td>\n",
       "      <td>False</td>\n",
       "      <td>False</td>\n",
       "      <td>True</td>\n",
       "      <td>False</td>\n",
       "      <td>...</td>\n",
       "      <td>False</td>\n",
       "      <td>True</td>\n",
       "      <td>False</td>\n",
       "      <td>True</td>\n",
       "      <td>True</td>\n",
       "      <td>False</td>\n",
       "      <td>True</td>\n",
       "      <td>False</td>\n",
       "      <td>True</td>\n",
       "      <td>True</td>\n",
       "    </tr>\n",
       "    <tr>\n",
       "      <th>4</th>\n",
       "      <td>True</td>\n",
       "      <td>False</td>\n",
       "      <td>False</td>\n",
       "      <td>False</td>\n",
       "      <td>False</td>\n",
       "      <td>False</td>\n",
       "      <td>True</td>\n",
       "      <td>False</td>\n",
       "      <td>False</td>\n",
       "      <td>True</td>\n",
       "      <td>...</td>\n",
       "      <td>False</td>\n",
       "      <td>True</td>\n",
       "      <td>False</td>\n",
       "      <td>True</td>\n",
       "      <td>False</td>\n",
       "      <td>True</td>\n",
       "      <td>True</td>\n",
       "      <td>False</td>\n",
       "      <td>False</td>\n",
       "      <td>True</td>\n",
       "    </tr>\n",
       "  </tbody>\n",
       "</table>\n",
       "<p>5 rows × 29 columns</p>\n",
       "</div>"
      ],
      "text/plain": [
       "   Gender1  Gender2  Gender3  Photocat0  Photocat1  Photocat2  Photocat3  \\\n",
       "0     True    False    False      False       True      False      False   \n",
       "1     True    False    False      False      False       True      False   \n",
       "2     True    False    False      False      False      False      False   \n",
       "3    False     True    False      False      False      False      False   \n",
       "4     True    False    False      False      False      False       True   \n",
       "\n",
       "   Photocat4  Photocat5  agecat0  ...  breedcat  namecat  descriptcat  \\\n",
       "0      False      False    False  ...     False    False        False   \n",
       "1      False      False     True  ...     False    False        False   \n",
       "2      False       True     True  ...     False    False        False   \n",
       "3      False       True    False  ...     False     True        False   \n",
       "4      False      False     True  ...     False     True        False   \n",
       "\n",
       "   colorcat2  healthcat  statecat  MaturitySizecat  quantitycat  paidcat  \\\n",
       "0       True      False      True            False        False     True   \n",
       "1       True      False     False             True        False    False   \n",
       "2       True       True      True             True        False    False   \n",
       "3       True       True     False             True        False     True   \n",
       "4       True      False      True             True        False    False   \n",
       "\n",
       "   Target  \n",
       "0    True  \n",
       "1    True  \n",
       "2    True  \n",
       "3    True  \n",
       "4    True  \n",
       "\n",
       "[5 rows x 29 columns]"
      ]
     },
     "execution_count": 6,
     "metadata": {},
     "output_type": "execute_result"
    }
   ],
   "source": [
    "BT_db = create_bin(Bn,by)\n",
    "Bn = Bn.drop('Target', axis=1)\n",
    "BT_db.head()"
   ]
  },
  {
   "cell_type": "markdown",
   "metadata": {
    "heading_collapsed": true
   },
   "source": [
    "## 2.2 Association Rules"
   ]
  },
  {
   "cell_type": "code",
   "execution_count": 7,
   "metadata": {
    "hidden": true
   },
   "outputs": [
    {
     "name": "stdout",
     "output_type": "stream",
     "text": [
      "Warning:  No rules found\n"
     ]
    }
   ],
   "source": [
    "# Multi-Class Target\n",
    "rules = get_rules(MT_db)\n",
    "if type(rules) is str: print('Warning: ',rules)\n",
    "else: display(rules.head())"
   ]
  },
  {
   "cell_type": "code",
   "execution_count": 8,
   "metadata": {
    "hidden": true
   },
   "outputs": [
    {
     "data": {
      "text/html": [
       "<div>\n",
       "<style scoped>\n",
       "    .dataframe tbody tr th:only-of-type {\n",
       "        vertical-align: middle;\n",
       "    }\n",
       "\n",
       "    .dataframe tbody tr th {\n",
       "        vertical-align: top;\n",
       "    }\n",
       "\n",
       "    .dataframe thead th {\n",
       "        text-align: right;\n",
       "    }\n",
       "</style>\n",
       "<table border=\"1\" class=\"dataframe\">\n",
       "  <thead>\n",
       "    <tr style=\"text-align: right;\">\n",
       "      <th></th>\n",
       "      <th>antecedents</th>\n",
       "      <th>consequents</th>\n",
       "      <th>antecedent support</th>\n",
       "      <th>consequent support</th>\n",
       "      <th>support</th>\n",
       "      <th>confidence</th>\n",
       "      <th>lift</th>\n",
       "      <th>leverage</th>\n",
       "      <th>conviction</th>\n",
       "    </tr>\n",
       "  </thead>\n",
       "  <tbody>\n",
       "    <tr>\n",
       "      <th>43</th>\n",
       "      <td>(statecat)</td>\n",
       "      <td>(Target)</td>\n",
       "      <td>0.564807</td>\n",
       "      <td>0.5</td>\n",
       "      <td>0.304417</td>\n",
       "      <td>0.538974</td>\n",
       "      <td>1.077949</td>\n",
       "      <td>0.022013</td>\n",
       "      <td>1.084538</td>\n",
       "    </tr>\n",
       "    <tr>\n",
       "      <th>134</th>\n",
       "      <td>(Type, statecat)</td>\n",
       "      <td>(Target)</td>\n",
       "      <td>0.564807</td>\n",
       "      <td>0.5</td>\n",
       "      <td>0.304417</td>\n",
       "      <td>0.538974</td>\n",
       "      <td>1.077949</td>\n",
       "      <td>0.022013</td>\n",
       "      <td>1.084538</td>\n",
       "    </tr>\n",
       "    <tr>\n",
       "      <th>161</th>\n",
       "      <td>(FurLength, statecat)</td>\n",
       "      <td>(Target)</td>\n",
       "      <td>0.564807</td>\n",
       "      <td>0.5</td>\n",
       "      <td>0.304417</td>\n",
       "      <td>0.538974</td>\n",
       "      <td>1.077949</td>\n",
       "      <td>0.022013</td>\n",
       "      <td>1.084538</td>\n",
       "    </tr>\n",
       "    <tr>\n",
       "      <th>246</th>\n",
       "      <td>(FurLength, Type, statecat)</td>\n",
       "      <td>(Target)</td>\n",
       "      <td>0.564807</td>\n",
       "      <td>0.5</td>\n",
       "      <td>0.304417</td>\n",
       "      <td>0.538974</td>\n",
       "      <td>1.077949</td>\n",
       "      <td>0.022013</td>\n",
       "      <td>1.084538</td>\n",
       "    </tr>\n",
       "  </tbody>\n",
       "</table>\n",
       "</div>"
      ],
      "text/plain": [
       "                     antecedents consequents  antecedent support  \\\n",
       "43                    (statecat)    (Target)            0.564807   \n",
       "134             (Type, statecat)    (Target)            0.564807   \n",
       "161        (FurLength, statecat)    (Target)            0.564807   \n",
       "246  (FurLength, Type, statecat)    (Target)            0.564807   \n",
       "\n",
       "     consequent support   support  confidence      lift  leverage  conviction  \n",
       "43                  0.5  0.304417    0.538974  1.077949  0.022013    1.084538  \n",
       "134                 0.5  0.304417    0.538974  1.077949  0.022013    1.084538  \n",
       "161                 0.5  0.304417    0.538974  1.077949  0.022013    1.084538  \n",
       "246                 0.5  0.304417    0.538974  1.077949  0.022013    1.084538  "
      ]
     },
     "metadata": {},
     "output_type": "display_data"
    }
   ],
   "source": [
    "#Binary Target\n",
    "rules = get_rules(BT_db)\n",
    "if type(rules) is str: print('Warning: ',rules)\n",
    "else: display(rules.head())"
   ]
  },
  {
   "cell_type": "markdown",
   "metadata": {
    "colab_type": "text",
    "heading_collapsed": true,
    "id": "k8VD8OxF1lTf"
   },
   "source": [
    "## 2.3 Association Rules - Results and Discussion "
   ]
  },
  {
   "cell_type": "markdown",
   "metadata": {
    "colab_type": "text",
    "hidden": true,
    "id": "e4dVz_151lTg"
   },
   "source": [
    "..."
   ]
  },
  {
   "cell_type": "markdown",
   "metadata": {
    "colab_type": "text",
    "heading_collapsed": true,
    "id": "wmtbcq0u1lTg"
   },
   "source": [
    "## 2.4. Preprocessing Data for Clustering"
   ]
  },
  {
   "cell_type": "markdown",
   "metadata": {
    "colab_type": "text",
    "hidden": true,
    "id": "XxP5nkGS1lTg"
   },
   "source": [
    "Under normal circonstances, since we are working with categorical data, we would need to create a binary dataset to be able to apply clustering, because categorical features might not be encoded in a way that distances can be calculated.\n",
    "\n",
    "For example color 1 is not more distant from color 3 than it is from color 2.\n",
    "\n",
    "In this case there was no need to preprocess data, since our dataset only uses binary features, or features were distance measures can be applied. (Ex:age)"
   ]
  },
  {
   "cell_type": "markdown",
   "metadata": {
    "colab_type": "text",
    "collapsed": true,
    "heading_collapsed": true,
    "id": "1HY6sjHr1lTh"
   },
   "source": [
    "## 2.5. Finding Groups"
   ]
  },
  {
   "cell_type": "markdown",
   "metadata": {
    "heading_collapsed": true,
    "hidden": true
   },
   "source": [
    "### 2.5.1 Multi-Class Target"
   ]
  },
  {
   "cell_type": "markdown",
   "metadata": {
    "heading_collapsed": true,
    "hidden": true
   },
   "source": [
    "#### 2.5.1.1 Hierarchical Clustering"
   ]
  },
  {
   "cell_type": "markdown",
   "metadata": {
    "heading_collapsed": true,
    "hidden": true
   },
   "source": [
    "##### Basic Training"
   ]
  },
  {
   "cell_type": "code",
   "execution_count": 9,
   "metadata": {
    "colab_type": "text",
    "hidden": true,
    "id": "lUhm8LFD1lTh"
   },
   "outputs": [
    {
     "name": "stdout",
     "output_type": "stream",
     "text": [
      "Score:  0.21552098157769733\n",
      "Confusion Matrix: \n",
      "       0     1    2     3     4\n",
      "0  1108   889  756   751   885\n",
      "1   789   633  867  1106  1591\n",
      "2  1040  1061  837   728   513\n",
      "3   613   981  970   905   479\n",
      "4   643   507  587   549   549\n"
     ]
    }
   ],
   "source": [
    "#Train Cluster\n",
    "cluster = AgglomerativeClustering(n_clusters=5, affinity='euclidean', compute_full_tree='auto', linkage='ward')\n",
    "cluster.fit(Bl)\n",
    "#Get score\n",
    "cm, metric = model_metrics(my, cluster)\n",
    "print('Score: ',metric)\n",
    "print('Confusion Matrix: \\n', cm)"
   ]
  },
  {
   "cell_type": "code",
   "execution_count": 10,
   "metadata": {
    "code_folding": [],
    "hidden": true
   },
   "outputs": [],
   "source": [
    "#Takes to long to compute\n",
    "#Plot Dendogram\n",
    "# plot the top three levels of the dendrogram\n",
    "#plot_dendo(cluster, Bl.values, truncate_mode='level')\n",
    "#plt.xlabel(\"Number of points in node (or index of point if no parenthesis).\")\n",
    "#plt.show()"
   ]
  },
  {
   "cell_type": "markdown",
   "metadata": {
    "heading_collapsed": true,
    "hidden": true
   },
   "source": [
    "##### Feature Selection"
   ]
  },
  {
   "cell_type": "code",
   "execution_count": 11,
   "metadata": {
    "hidden": true
   },
   "outputs": [
    {
     "name": "stdout",
     "output_type": "stream",
     "text": [
      "dropping 'Type' at index: 0\n",
      "dropping 'Gender' at index: 0\n",
      "dropping 'FurLength' at index: 0\n",
      "Remaining variables:\n",
      "Index(['agecat', 'breedcat', 'namecat', 'descriptcat', 'colorcat', 'colorcat2',\n",
      "       'healthcat', 'statecat', 'MaturitySizecat', 'Photocat', 'quantitycat',\n",
      "       'paidcat'],\n",
      "      dtype='object')\n"
     ]
    }
   ],
   "source": [
    "X = feature_selector(Bl, my)"
   ]
  },
  {
   "cell_type": "code",
   "execution_count": 12,
   "metadata": {
    "hidden": true
   },
   "outputs": [
    {
     "name": "stdout",
     "output_type": "stream",
     "text": [
      "Score:  0.2270526610466766\n",
      "Confusion Matrix: \n",
      "       0     1     2     3     4\n",
      "0  1618  1518  1374  1125   868\n",
      "1   650   587   747   923   724\n",
      "2  1078   999  1018  1077  1504\n",
      "3   385   623   613   610   225\n",
      "4   462   344   265   304   696\n"
     ]
    }
   ],
   "source": [
    "#Train Cluster\n",
    "cluster = AgglomerativeClustering(n_clusters=5, linkage='ward')\n",
    "cluster.fit(X)\n",
    "#Get score\n",
    "cm, metric = model_metrics(my, cluster)\n",
    "print('Score: ',metric)\n",
    "print('Confusion Matrix: \\n', cm)"
   ]
  },
  {
   "cell_type": "markdown",
   "metadata": {
    "heading_collapsed": true,
    "hidden": true
   },
   "source": [
    "##### Linkage Selection"
   ]
  },
  {
   "cell_type": "code",
   "execution_count": 13,
   "metadata": {
    "hidden": true
   },
   "outputs": [
    {
     "name": "stdout",
     "output_type": "stream",
     "text": [
      "Linkage:  ward\n",
      "Affinity Metric:  euclidean\n",
      "Score:  0.23\n",
      "Confusion Matrix: \n",
      "       0     1     2     3     4\n",
      "0  1618  1518  1374  1125   868\n",
      "1   650   587   747   923   724\n",
      "2  1078   999  1018  1077  1504\n",
      "3   385   623   613   610   225\n",
      "4   462   344   265   304   696\n"
     ]
    }
   ],
   "source": [
    "#Find best linkage function\n",
    "cluster, score, cm = ACparm(X, my, 5)\n",
    "print('Linkage: ', cluster.linkage)\n",
    "print('Affinity Metric: ', cluster.affinity)\n",
    "print('Score: ', round(score, 2))\n",
    "print('Confusion Matrix: \\n', cm)"
   ]
  },
  {
   "cell_type": "markdown",
   "metadata": {
    "hidden": true
   },
   "source": [
    "#### 2.5.1.2 K_means"
   ]
  },
  {
   "cell_type": "markdown",
   "metadata": {
    "heading_collapsed": true,
    "hidden": true
   },
   "source": [
    "##### Basic Training"
   ]
  },
  {
   "cell_type": "code",
   "execution_count": 14,
   "metadata": {
    "colab_type": "text",
    "hidden": true,
    "id": "lUhm8LFD1lTh"
   },
   "outputs": [
    {
     "name": "stdout",
     "output_type": "stream",
     "text": [
      "Score:  0.2270526610466766\n",
      "Confusion Matrix: \n",
      "       0     1     2     3     4\n",
      "0  1618  1518  1374  1125   868\n",
      "1   650   587   747   923   724\n",
      "2  1078   999  1018  1077  1504\n",
      "3   385   623   613   610   225\n",
      "4   462   344   265   304   696\n"
     ]
    }
   ],
   "source": [
    "kmeans = KMeans(n_clusters=5, random_state=0)\n",
    "kmeans.fit(Bl)\n",
    "#Get score\n",
    "cm, metric = model_metrics(my, cluster)\n",
    "print('Score: ',metric)\n",
    "print('Confusion Matrix: \\n', cm)"
   ]
  },
  {
   "cell_type": "markdown",
   "metadata": {
    "heading_collapsed": true,
    "hidden": true
   },
   "source": [
    "##### Feature Selection"
   ]
  },
  {
   "cell_type": "code",
   "execution_count": 15,
   "metadata": {
    "hidden": true,
    "scrolled": true
   },
   "outputs": [
    {
     "name": "stdout",
     "output_type": "stream",
     "text": [
      "Score:  0.2270526610466766\n",
      "Confusion Matrix: \n",
      "       0     1     2     3     4\n",
      "0  1618  1518  1374  1125   868\n",
      "1   650   587   747   923   724\n",
      "2  1078   999  1018  1077  1504\n",
      "3   385   623   613   610   225\n",
      "4   462   344   265   304   696\n"
     ]
    }
   ],
   "source": [
    "kmeans = KMeans(n_clusters=5, random_state=0)\n",
    "kmeans.fit(X)\n",
    "#Get score\n",
    "cm, metric = model_metrics(my, cluster)\n",
    "print('Score: ',metric)\n",
    "print('Confusion Matrix: \\n', cm)"
   ]
  },
  {
   "cell_type": "markdown",
   "metadata": {
    "heading_collapsed": true,
    "hidden": true
   },
   "source": [
    "### 2.5.2 Binary Target"
   ]
  },
  {
   "cell_type": "markdown",
   "metadata": {
    "hidden": true
   },
   "source": [
    "#### 2.5.2.1 Hierarchical Clustering"
   ]
  },
  {
   "cell_type": "markdown",
   "metadata": {
    "heading_collapsed": true,
    "hidden": true
   },
   "source": [
    "##### Basic Training"
   ]
  },
  {
   "cell_type": "code",
   "execution_count": 16,
   "metadata": {
    "colab_type": "text",
    "hidden": true,
    "id": "lUhm8LFD1lTh"
   },
   "outputs": [
    {
     "name": "stdout",
     "output_type": "stream",
     "text": [
      "Score:  0.5248270376213008\n",
      "Confusion Matrix: \n",
      "       0     1\n",
      "0  3797  6126\n",
      "1  6958  4629\n"
     ]
    }
   ],
   "source": [
    "#Train Cluster\n",
    "cluster = AgglomerativeClustering(n_clusters=2, affinity='euclidean', compute_full_tree='auto', linkage='ward')\n",
    "cluster.fit(Bn)\n",
    "#Get score\n",
    "cm, metric = model_metrics(by, cluster)\n",
    "print('Score: ',metric)\n",
    "print('Confusion Matrix: \\n', cm)"
   ]
  },
  {
   "cell_type": "markdown",
   "metadata": {
    "heading_collapsed": true,
    "hidden": true
   },
   "source": [
    "##### Feature Selection"
   ]
  },
  {
   "cell_type": "code",
   "execution_count": 17,
   "metadata": {
    "hidden": true,
    "scrolled": true
   },
   "outputs": [
    {
     "name": "stdout",
     "output_type": "stream",
     "text": [
      "dropping 'Type' at index: 0\n",
      "dropping 'Gender' at index: 0\n",
      "dropping 'FurLength' at index: 0\n",
      "Remaining variables:\n",
      "Index(['agecat', 'breedcat', 'namecat', 'descriptcat', 'colorcat', 'colorcat2',\n",
      "       'healthcat', 'statecat', 'MaturitySizecat', 'Photocat', 'quantitycat',\n",
      "       'paidcat'],\n",
      "      dtype='object')\n",
      "Score:  0.5185210072083354\n",
      "Confusion Matrix: \n",
      "       0     1\n",
      "0  5839  7180\n",
      "1  4916  3575\n"
     ]
    }
   ],
   "source": [
    "X = feature_selector(Bn, by)\n",
    "#Train Cluster\n",
    "cluster = AgglomerativeClustering(n_clusters=2, linkage='ward')\n",
    "cluster.fit(X)\n",
    "#Get score\n",
    "cm, metric = model_metrics(by, cluster)\n",
    "print('Score: ',metric)\n",
    "print('Confusion Matrix: \\n', cm)"
   ]
  },
  {
   "cell_type": "markdown",
   "metadata": {
    "heading_collapsed": true,
    "hidden": true
   },
   "source": [
    "##### Linkage Selection"
   ]
  },
  {
   "cell_type": "code",
   "execution_count": 18,
   "metadata": {
    "hidden": true
   },
   "outputs": [
    {
     "name": "stdout",
     "output_type": "stream",
     "text": [
      "Linkage:  average\n",
      "Affinity Metric:  l1\n",
      "Score:  0.54\n",
      "Confusion Matrix: \n",
      "       0     1\n",
      "0  2999  5501\n",
      "1  7756  5254\n"
     ]
    }
   ],
   "source": [
    "#Find best linkage function\n",
    "cluster, score, cm = ACparm(X, by, 2)\n",
    "print('Linkage: ', cluster.linkage)\n",
    "print('Affinity Metric: ', cluster.affinity)\n",
    "print('Score: ', round(score, 2))\n",
    "print('Confusion Matrix: \\n', cm)"
   ]
  },
  {
   "cell_type": "markdown",
   "metadata": {
    "heading_collapsed": true,
    "hidden": true
   },
   "source": [
    "#### 2.5.2.2 K_means"
   ]
  },
  {
   "cell_type": "markdown",
   "metadata": {
    "heading_collapsed": true,
    "hidden": true
   },
   "source": [
    "##### Basic Training"
   ]
  },
  {
   "cell_type": "code",
   "execution_count": 19,
   "metadata": {
    "colab_type": "text",
    "hidden": true,
    "id": "lUhm8LFD1lTh"
   },
   "outputs": [
    {
     "name": "stdout",
     "output_type": "stream",
     "text": [
      "Score:  0.5373139474868317\n",
      "Confusion Matrix: \n",
      "       0     1\n",
      "0  2999  5501\n",
      "1  7756  5254\n"
     ]
    }
   ],
   "source": [
    "kmeans = KMeans(n_clusters=2, random_state=0)\n",
    "kmeans.fit(Bn)\n",
    "#Get score\n",
    "cm, metric = model_metrics(by, cluster)\n",
    "print('Score: ',metric)\n",
    "print('Confusion Matrix: \\n', cm)"
   ]
  },
  {
   "cell_type": "markdown",
   "metadata": {
    "heading_collapsed": true,
    "hidden": true
   },
   "source": [
    "##### Feature Selection"
   ]
  },
  {
   "cell_type": "code",
   "execution_count": 20,
   "metadata": {
    "hidden": true,
    "scrolled": true
   },
   "outputs": [
    {
     "name": "stdout",
     "output_type": "stream",
     "text": [
      "Score:  0.5373139474868317\n",
      "Confusion Matrix: \n",
      "       0     1\n",
      "0  2999  5501\n",
      "1  7756  5254\n"
     ]
    }
   ],
   "source": [
    "kmeans = KMeans(n_clusters=2, random_state=0)\n",
    "kmeans.fit(X)\n",
    "#Get score\n",
    "cm, metric = model_metrics(by, cluster)\n",
    "print('Score: ',metric)\n",
    "print('Confusion Matrix: \\n', cm)"
   ]
  },
  {
   "cell_type": "markdown",
   "metadata": {
    "colab_type": "text",
    "id": "3aZB8XSM1lTh"
   },
   "source": [
    "## 2.6. Clustering - Results and Discussion "
   ]
  },
  {
   "cell_type": "markdown",
   "metadata": {
    "colab_type": "text",
    "id": "vJAiFeft1lTh"
   },
   "source": [
    "..."
   ]
  }
 ],
 "metadata": {
  "kernelspec": {
   "display_name": "Python 3",
   "language": "python",
   "name": "python3"
  },
  "language_info": {
   "codemirror_mode": {
    "name": "ipython",
    "version": 3
   },
   "file_extension": ".py",
   "mimetype": "text/x-python",
   "name": "python",
   "nbconvert_exporter": "python",
   "pygments_lexer": "ipython3",
   "version": "3.7.4"
  },
  "varInspector": {
   "cols": {
    "lenName": 16,
    "lenType": 16,
    "lenVar": 40
   },
   "kernels_config": {
    "python": {
     "delete_cmd_postfix": "",
     "delete_cmd_prefix": "del ",
     "library": "var_list.py",
     "varRefreshCmd": "print(var_dic_list())"
    },
    "r": {
     "delete_cmd_postfix": ") ",
     "delete_cmd_prefix": "rm(",
     "library": "var_list.r",
     "varRefreshCmd": "cat(var_dic_list()) "
    }
   },
   "types_to_exclude": [
    "module",
    "function",
    "builtin_function_or_method",
    "instance",
    "_Feature"
   ],
   "window_display": false
  }
 },
 "nbformat": 4,
 "nbformat_minor": 2
}
